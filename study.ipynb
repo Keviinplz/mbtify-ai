{
 "cells": [
  {
   "cell_type": "code",
   "execution_count": 2,
   "metadata": {},
   "outputs": [],
   "source": [
    "import os\n",
    "import pandas as pd\n",
    "import plotly.express as px"
   ]
  },
  {
   "cell_type": "code",
   "execution_count": 3,
   "metadata": {},
   "outputs": [],
   "source": [
    "data = os.path.join(os.getcwd(), \"data\", \"results.json\")\n",
    "\n",
    "df = pd.read_json(data)"
   ]
  },
  {
   "cell_type": "markdown",
   "metadata": {},
   "source": [
    "# EDA"
   ]
  },
  {
   "cell_type": "markdown",
   "metadata": {},
   "source": []
  },
  {
   "cell_type": "code",
   "execution_count": 6,
   "metadata": {},
   "outputs": [
    {
     "name": "stdout",
     "output_type": "stream",
     "text": [
      "Dataset contains 14 features y 905 items\n"
     ]
    },
    {
     "data": {
      "application/vnd.plotly.v1+json": {
       "config": {
        "plotlyServerURL": "https://plot.ly"
       },
       "data": [
        {
         "alignmentgroup": "True",
         "hovertemplate": "index=%{x}<br>class=%{y}<extra></extra>",
         "legendgroup": "",
         "marker": {
          "color": "#636efa",
          "pattern": {
           "shape": ""
          }
         },
         "name": "",
         "offsetgroup": "",
         "orientation": "v",
         "showlegend": false,
         "textposition": "auto",
         "type": "bar",
         "x": [
          "enfj",
          "enfp",
          "entj",
          "entp",
          "esfj",
          "esfp",
          "estj",
          "estp",
          "infj",
          "infp",
          "intj",
          "intp",
          "isfj",
          "isfp",
          "istj",
          "istp"
         ],
         "xaxis": "x",
         "y": [
          60,
          72,
          70,
          69,
          58,
          61,
          56,
          62,
          41,
          46,
          42,
          40,
          58,
          68,
          46,
          56
         ],
         "yaxis": "y"
        }
       ],
       "layout": {
        "barmode": "relative",
        "legend": {
         "tracegroupgap": 0
        },
        "margin": {
         "t": 60
        },
        "template": {
         "data": {
          "bar": [
           {
            "error_x": {
             "color": "#2a3f5f"
            },
            "error_y": {
             "color": "#2a3f5f"
            },
            "marker": {
             "line": {
              "color": "#E5ECF6",
              "width": 0.5
             },
             "pattern": {
              "fillmode": "overlay",
              "size": 10,
              "solidity": 0.2
             }
            },
            "type": "bar"
           }
          ],
          "barpolar": [
           {
            "marker": {
             "line": {
              "color": "#E5ECF6",
              "width": 0.5
             },
             "pattern": {
              "fillmode": "overlay",
              "size": 10,
              "solidity": 0.2
             }
            },
            "type": "barpolar"
           }
          ],
          "carpet": [
           {
            "aaxis": {
             "endlinecolor": "#2a3f5f",
             "gridcolor": "white",
             "linecolor": "white",
             "minorgridcolor": "white",
             "startlinecolor": "#2a3f5f"
            },
            "baxis": {
             "endlinecolor": "#2a3f5f",
             "gridcolor": "white",
             "linecolor": "white",
             "minorgridcolor": "white",
             "startlinecolor": "#2a3f5f"
            },
            "type": "carpet"
           }
          ],
          "choropleth": [
           {
            "colorbar": {
             "outlinewidth": 0,
             "ticks": ""
            },
            "type": "choropleth"
           }
          ],
          "contour": [
           {
            "colorbar": {
             "outlinewidth": 0,
             "ticks": ""
            },
            "colorscale": [
             [
              0,
              "#0d0887"
             ],
             [
              0.1111111111111111,
              "#46039f"
             ],
             [
              0.2222222222222222,
              "#7201a8"
             ],
             [
              0.3333333333333333,
              "#9c179e"
             ],
             [
              0.4444444444444444,
              "#bd3786"
             ],
             [
              0.5555555555555556,
              "#d8576b"
             ],
             [
              0.6666666666666666,
              "#ed7953"
             ],
             [
              0.7777777777777778,
              "#fb9f3a"
             ],
             [
              0.8888888888888888,
              "#fdca26"
             ],
             [
              1,
              "#f0f921"
             ]
            ],
            "type": "contour"
           }
          ],
          "contourcarpet": [
           {
            "colorbar": {
             "outlinewidth": 0,
             "ticks": ""
            },
            "type": "contourcarpet"
           }
          ],
          "heatmap": [
           {
            "colorbar": {
             "outlinewidth": 0,
             "ticks": ""
            },
            "colorscale": [
             [
              0,
              "#0d0887"
             ],
             [
              0.1111111111111111,
              "#46039f"
             ],
             [
              0.2222222222222222,
              "#7201a8"
             ],
             [
              0.3333333333333333,
              "#9c179e"
             ],
             [
              0.4444444444444444,
              "#bd3786"
             ],
             [
              0.5555555555555556,
              "#d8576b"
             ],
             [
              0.6666666666666666,
              "#ed7953"
             ],
             [
              0.7777777777777778,
              "#fb9f3a"
             ],
             [
              0.8888888888888888,
              "#fdca26"
             ],
             [
              1,
              "#f0f921"
             ]
            ],
            "type": "heatmap"
           }
          ],
          "heatmapgl": [
           {
            "colorbar": {
             "outlinewidth": 0,
             "ticks": ""
            },
            "colorscale": [
             [
              0,
              "#0d0887"
             ],
             [
              0.1111111111111111,
              "#46039f"
             ],
             [
              0.2222222222222222,
              "#7201a8"
             ],
             [
              0.3333333333333333,
              "#9c179e"
             ],
             [
              0.4444444444444444,
              "#bd3786"
             ],
             [
              0.5555555555555556,
              "#d8576b"
             ],
             [
              0.6666666666666666,
              "#ed7953"
             ],
             [
              0.7777777777777778,
              "#fb9f3a"
             ],
             [
              0.8888888888888888,
              "#fdca26"
             ],
             [
              1,
              "#f0f921"
             ]
            ],
            "type": "heatmapgl"
           }
          ],
          "histogram": [
           {
            "marker": {
             "pattern": {
              "fillmode": "overlay",
              "size": 10,
              "solidity": 0.2
             }
            },
            "type": "histogram"
           }
          ],
          "histogram2d": [
           {
            "colorbar": {
             "outlinewidth": 0,
             "ticks": ""
            },
            "colorscale": [
             [
              0,
              "#0d0887"
             ],
             [
              0.1111111111111111,
              "#46039f"
             ],
             [
              0.2222222222222222,
              "#7201a8"
             ],
             [
              0.3333333333333333,
              "#9c179e"
             ],
             [
              0.4444444444444444,
              "#bd3786"
             ],
             [
              0.5555555555555556,
              "#d8576b"
             ],
             [
              0.6666666666666666,
              "#ed7953"
             ],
             [
              0.7777777777777778,
              "#fb9f3a"
             ],
             [
              0.8888888888888888,
              "#fdca26"
             ],
             [
              1,
              "#f0f921"
             ]
            ],
            "type": "histogram2d"
           }
          ],
          "histogram2dcontour": [
           {
            "colorbar": {
             "outlinewidth": 0,
             "ticks": ""
            },
            "colorscale": [
             [
              0,
              "#0d0887"
             ],
             [
              0.1111111111111111,
              "#46039f"
             ],
             [
              0.2222222222222222,
              "#7201a8"
             ],
             [
              0.3333333333333333,
              "#9c179e"
             ],
             [
              0.4444444444444444,
              "#bd3786"
             ],
             [
              0.5555555555555556,
              "#d8576b"
             ],
             [
              0.6666666666666666,
              "#ed7953"
             ],
             [
              0.7777777777777778,
              "#fb9f3a"
             ],
             [
              0.8888888888888888,
              "#fdca26"
             ],
             [
              1,
              "#f0f921"
             ]
            ],
            "type": "histogram2dcontour"
           }
          ],
          "mesh3d": [
           {
            "colorbar": {
             "outlinewidth": 0,
             "ticks": ""
            },
            "type": "mesh3d"
           }
          ],
          "parcoords": [
           {
            "line": {
             "colorbar": {
              "outlinewidth": 0,
              "ticks": ""
             }
            },
            "type": "parcoords"
           }
          ],
          "pie": [
           {
            "automargin": true,
            "type": "pie"
           }
          ],
          "scatter": [
           {
            "fillpattern": {
             "fillmode": "overlay",
             "size": 10,
             "solidity": 0.2
            },
            "type": "scatter"
           }
          ],
          "scatter3d": [
           {
            "line": {
             "colorbar": {
              "outlinewidth": 0,
              "ticks": ""
             }
            },
            "marker": {
             "colorbar": {
              "outlinewidth": 0,
              "ticks": ""
             }
            },
            "type": "scatter3d"
           }
          ],
          "scattercarpet": [
           {
            "marker": {
             "colorbar": {
              "outlinewidth": 0,
              "ticks": ""
             }
            },
            "type": "scattercarpet"
           }
          ],
          "scattergeo": [
           {
            "marker": {
             "colorbar": {
              "outlinewidth": 0,
              "ticks": ""
             }
            },
            "type": "scattergeo"
           }
          ],
          "scattergl": [
           {
            "marker": {
             "colorbar": {
              "outlinewidth": 0,
              "ticks": ""
             }
            },
            "type": "scattergl"
           }
          ],
          "scattermapbox": [
           {
            "marker": {
             "colorbar": {
              "outlinewidth": 0,
              "ticks": ""
             }
            },
            "type": "scattermapbox"
           }
          ],
          "scatterpolar": [
           {
            "marker": {
             "colorbar": {
              "outlinewidth": 0,
              "ticks": ""
             }
            },
            "type": "scatterpolar"
           }
          ],
          "scatterpolargl": [
           {
            "marker": {
             "colorbar": {
              "outlinewidth": 0,
              "ticks": ""
             }
            },
            "type": "scatterpolargl"
           }
          ],
          "scatterternary": [
           {
            "marker": {
             "colorbar": {
              "outlinewidth": 0,
              "ticks": ""
             }
            },
            "type": "scatterternary"
           }
          ],
          "surface": [
           {
            "colorbar": {
             "outlinewidth": 0,
             "ticks": ""
            },
            "colorscale": [
             [
              0,
              "#0d0887"
             ],
             [
              0.1111111111111111,
              "#46039f"
             ],
             [
              0.2222222222222222,
              "#7201a8"
             ],
             [
              0.3333333333333333,
              "#9c179e"
             ],
             [
              0.4444444444444444,
              "#bd3786"
             ],
             [
              0.5555555555555556,
              "#d8576b"
             ],
             [
              0.6666666666666666,
              "#ed7953"
             ],
             [
              0.7777777777777778,
              "#fb9f3a"
             ],
             [
              0.8888888888888888,
              "#fdca26"
             ],
             [
              1,
              "#f0f921"
             ]
            ],
            "type": "surface"
           }
          ],
          "table": [
           {
            "cells": {
             "fill": {
              "color": "#EBF0F8"
             },
             "line": {
              "color": "white"
             }
            },
            "header": {
             "fill": {
              "color": "#C8D4E3"
             },
             "line": {
              "color": "white"
             }
            },
            "type": "table"
           }
          ]
         },
         "layout": {
          "annotationdefaults": {
           "arrowcolor": "#2a3f5f",
           "arrowhead": 0,
           "arrowwidth": 1
          },
          "autotypenumbers": "strict",
          "coloraxis": {
           "colorbar": {
            "outlinewidth": 0,
            "ticks": ""
           }
          },
          "colorscale": {
           "diverging": [
            [
             0,
             "#8e0152"
            ],
            [
             0.1,
             "#c51b7d"
            ],
            [
             0.2,
             "#de77ae"
            ],
            [
             0.3,
             "#f1b6da"
            ],
            [
             0.4,
             "#fde0ef"
            ],
            [
             0.5,
             "#f7f7f7"
            ],
            [
             0.6,
             "#e6f5d0"
            ],
            [
             0.7,
             "#b8e186"
            ],
            [
             0.8,
             "#7fbc41"
            ],
            [
             0.9,
             "#4d9221"
            ],
            [
             1,
             "#276419"
            ]
           ],
           "sequential": [
            [
             0,
             "#0d0887"
            ],
            [
             0.1111111111111111,
             "#46039f"
            ],
            [
             0.2222222222222222,
             "#7201a8"
            ],
            [
             0.3333333333333333,
             "#9c179e"
            ],
            [
             0.4444444444444444,
             "#bd3786"
            ],
            [
             0.5555555555555556,
             "#d8576b"
            ],
            [
             0.6666666666666666,
             "#ed7953"
            ],
            [
             0.7777777777777778,
             "#fb9f3a"
            ],
            [
             0.8888888888888888,
             "#fdca26"
            ],
            [
             1,
             "#f0f921"
            ]
           ],
           "sequentialminus": [
            [
             0,
             "#0d0887"
            ],
            [
             0.1111111111111111,
             "#46039f"
            ],
            [
             0.2222222222222222,
             "#7201a8"
            ],
            [
             0.3333333333333333,
             "#9c179e"
            ],
            [
             0.4444444444444444,
             "#bd3786"
            ],
            [
             0.5555555555555556,
             "#d8576b"
            ],
            [
             0.6666666666666666,
             "#ed7953"
            ],
            [
             0.7777777777777778,
             "#fb9f3a"
            ],
            [
             0.8888888888888888,
             "#fdca26"
            ],
            [
             1,
             "#f0f921"
            ]
           ]
          },
          "colorway": [
           "#636efa",
           "#EF553B",
           "#00cc96",
           "#ab63fa",
           "#FFA15A",
           "#19d3f3",
           "#FF6692",
           "#B6E880",
           "#FF97FF",
           "#FECB52"
          ],
          "font": {
           "color": "#2a3f5f"
          },
          "geo": {
           "bgcolor": "white",
           "lakecolor": "white",
           "landcolor": "#E5ECF6",
           "showlakes": true,
           "showland": true,
           "subunitcolor": "white"
          },
          "hoverlabel": {
           "align": "left"
          },
          "hovermode": "closest",
          "mapbox": {
           "style": "light"
          },
          "paper_bgcolor": "white",
          "plot_bgcolor": "#E5ECF6",
          "polar": {
           "angularaxis": {
            "gridcolor": "white",
            "linecolor": "white",
            "ticks": ""
           },
           "bgcolor": "#E5ECF6",
           "radialaxis": {
            "gridcolor": "white",
            "linecolor": "white",
            "ticks": ""
           }
          },
          "scene": {
           "xaxis": {
            "backgroundcolor": "#E5ECF6",
            "gridcolor": "white",
            "gridwidth": 2,
            "linecolor": "white",
            "showbackground": true,
            "ticks": "",
            "zerolinecolor": "white"
           },
           "yaxis": {
            "backgroundcolor": "#E5ECF6",
            "gridcolor": "white",
            "gridwidth": 2,
            "linecolor": "white",
            "showbackground": true,
            "ticks": "",
            "zerolinecolor": "white"
           },
           "zaxis": {
            "backgroundcolor": "#E5ECF6",
            "gridcolor": "white",
            "gridwidth": 2,
            "linecolor": "white",
            "showbackground": true,
            "ticks": "",
            "zerolinecolor": "white"
           }
          },
          "shapedefaults": {
           "line": {
            "color": "#2a3f5f"
           }
          },
          "ternary": {
           "aaxis": {
            "gridcolor": "white",
            "linecolor": "white",
            "ticks": ""
           },
           "baxis": {
            "gridcolor": "white",
            "linecolor": "white",
            "ticks": ""
           },
           "bgcolor": "#E5ECF6",
           "caxis": {
            "gridcolor": "white",
            "linecolor": "white",
            "ticks": ""
           }
          },
          "title": {
           "x": 0.05
          },
          "xaxis": {
           "automargin": true,
           "gridcolor": "white",
           "linecolor": "white",
           "ticks": "",
           "title": {
            "standoff": 15
           },
           "zerolinecolor": "white",
           "zerolinewidth": 2
          },
          "yaxis": {
           "automargin": true,
           "gridcolor": "white",
           "linecolor": "white",
           "ticks": "",
           "title": {
            "standoff": 15
           },
           "zerolinecolor": "white",
           "zerolinewidth": 2
          }
         }
        },
        "xaxis": {
         "anchor": "y",
         "domain": [
          0,
          1
         ],
         "title": {
          "text": "index"
         }
        },
        "yaxis": {
         "anchor": "x",
         "domain": [
          0,
          1
         ],
         "title": {
          "text": "class"
         }
        }
       }
      }
     },
     "metadata": {},
     "output_type": "display_data"
    }
   ],
   "source": [
    "print(f\"Dataset contains {len(df.columns) - 1} features y {len(df)} items\")\n",
    "\n",
    "fig = px.bar(df.groupby([\"class\"])[\"class\"].count(), y=\"class\")\n",
    "fig.show()"
   ]
  },
  {
   "cell_type": "code",
   "execution_count": 15,
   "metadata": {},
   "outputs": [
    {
     "name": "stdout",
     "output_type": "stream",
     "text": [
      "Danceability field\n"
     ]
    },
    {
     "data": {
      "application/vnd.plotly.v1+json": {
       "config": {
        "plotlyServerURL": "https://plot.ly"
       },
       "data": [
        {
         "alignmentgroup": "True",
         "hovertemplate": "class=%{x}<br>danceability=%{y}<extra></extra>",
         "legendgroup": "",
         "marker": {
          "color": "#636efa"
         },
         "name": "",
         "notched": false,
         "offsetgroup": "",
         "orientation": "v",
         "showlegend": false,
         "type": "box",
         "x": [
          "intj",
          "intj",
          "intj",
          "intj",
          "intj",
          "intj",
          "intj",
          "intj",
          "intj",
          "intj",
          "intj",
          "intj",
          "intj",
          "intj",
          "intj",
          "intj",
          "intj",
          "intj",
          "intj",
          "intj",
          "intj",
          "intj",
          "intj",
          "intj",
          "intj",
          "intj",
          "intj",
          "intj",
          "intj",
          "intj",
          "intj",
          "intj",
          "intj",
          "intj",
          "intj",
          "intj",
          "intj",
          "intj",
          "intj",
          "intj",
          "intj",
          "intj",
          "intp",
          "intp",
          "intp",
          "intp",
          "intp",
          "intp",
          "intp",
          "intp",
          "intp",
          "intp",
          "intp",
          "intp",
          "intp",
          "intp",
          "intp",
          "intp",
          "intp",
          "intp",
          "intp",
          "intp",
          "intp",
          "intp",
          "intp",
          "intp",
          "intp",
          "intp",
          "intp",
          "intp",
          "intp",
          "intp",
          "intp",
          "intp",
          "intp",
          "intp",
          "intp",
          "intp",
          "intp",
          "intp",
          "intp",
          "intp",
          "infj",
          "infj",
          "infj",
          "infj",
          "infj",
          "infj",
          "infj",
          "infj",
          "infj",
          "infj",
          "infj",
          "infj",
          "infj",
          "infj",
          "infj",
          "infj",
          "infj",
          "infj",
          "infj",
          "infj",
          "infj",
          "infj",
          "infj",
          "infj",
          "infj",
          "infj",
          "infj",
          "infj",
          "infj",
          "infj",
          "infj",
          "infj",
          "infj",
          "infj",
          "infj",
          "infj",
          "infj",
          "infj",
          "infj",
          "infj",
          "infj",
          "infp",
          "infp",
          "infp",
          "infp",
          "infp",
          "infp",
          "infp",
          "infp",
          "infp",
          "infp",
          "infp",
          "infp",
          "infp",
          "infp",
          "infp",
          "infp",
          "infp",
          "infp",
          "infp",
          "infp",
          "infp",
          "infp",
          "infp",
          "infp",
          "infp",
          "infp",
          "infp",
          "infp",
          "infp",
          "infp",
          "infp",
          "infp",
          "infp",
          "infp",
          "infp",
          "infp",
          "infp",
          "infp",
          "infp",
          "infp",
          "infp",
          "infp",
          "infp",
          "infp",
          "infp",
          "infp",
          "istj",
          "istj",
          "istj",
          "istj",
          "istj",
          "istj",
          "istj",
          "istj",
          "istj",
          "istj",
          "istj",
          "istj",
          "istj",
          "istj",
          "istj",
          "istj",
          "istj",
          "istj",
          "istj",
          "istj",
          "istj",
          "istj",
          "istj",
          "istj",
          "istj",
          "istj",
          "istj",
          "istj",
          "istj",
          "istj",
          "istj",
          "istj",
          "istj",
          "istj",
          "istj",
          "istj",
          "istj",
          "istj",
          "istj",
          "istj",
          "istj",
          "istj",
          "istj",
          "istj",
          "istj",
          "istj",
          "istp",
          "istp",
          "istp",
          "istp",
          "istp",
          "istp",
          "istp",
          "istp",
          "istp",
          "istp",
          "istp",
          "istp",
          "istp",
          "istp",
          "istp",
          "istp",
          "istp",
          "istp",
          "istp",
          "istp",
          "istp",
          "istp",
          "istp",
          "istp",
          "istp",
          "istp",
          "istp",
          "istp",
          "istp",
          "istp",
          "istp",
          "istp",
          "istp",
          "istp",
          "istp",
          "istp",
          "istp",
          "istp",
          "istp",
          "istp",
          "istp",
          "istp",
          "istp",
          "istp",
          "istp",
          "istp",
          "istp",
          "istp",
          "istp",
          "istp",
          "istp",
          "istp",
          "istp",
          "istp",
          "istp",
          "istp",
          "isfj",
          "isfj",
          "isfj",
          "isfj",
          "isfj",
          "isfj",
          "isfj",
          "isfj",
          "isfj",
          "isfj",
          "isfj",
          "isfj",
          "isfj",
          "isfj",
          "isfj",
          "isfj",
          "isfj",
          "isfj",
          "isfj",
          "isfj",
          "isfj",
          "isfj",
          "isfj",
          "isfj",
          "isfj",
          "isfj",
          "isfj",
          "isfj",
          "isfj",
          "isfj",
          "isfj",
          "isfj",
          "isfj",
          "isfj",
          "isfj",
          "isfj",
          "isfj",
          "isfj",
          "isfj",
          "isfj",
          "isfj",
          "isfj",
          "isfj",
          "isfj",
          "isfj",
          "isfj",
          "isfj",
          "isfj",
          "isfj",
          "isfj",
          "isfj",
          "isfj",
          "isfj",
          "isfj",
          "isfj",
          "isfj",
          "isfj",
          "isfj",
          "isfp",
          "isfp",
          "isfp",
          "isfp",
          "isfp",
          "isfp",
          "isfp",
          "isfp",
          "isfp",
          "isfp",
          "isfp",
          "isfp",
          "isfp",
          "isfp",
          "isfp",
          "isfp",
          "isfp",
          "isfp",
          "isfp",
          "isfp",
          "isfp",
          "isfp",
          "isfp",
          "isfp",
          "isfp",
          "isfp",
          "isfp",
          "isfp",
          "isfp",
          "isfp",
          "isfp",
          "isfp",
          "isfp",
          "isfp",
          "isfp",
          "isfp",
          "isfp",
          "isfp",
          "isfp",
          "isfp",
          "isfp",
          "isfp",
          "isfp",
          "isfp",
          "isfp",
          "isfp",
          "isfp",
          "isfp",
          "isfp",
          "isfp",
          "isfp",
          "isfp",
          "isfp",
          "isfp",
          "isfp",
          "isfp",
          "isfp",
          "isfp",
          "isfp",
          "isfp",
          "isfp",
          "isfp",
          "isfp",
          "isfp",
          "isfp",
          "isfp",
          "isfp",
          "isfp",
          "enfp",
          "enfp",
          "enfp",
          "enfp",
          "enfp",
          "enfp",
          "enfp",
          "enfp",
          "enfp",
          "enfp",
          "enfp",
          "enfp",
          "enfp",
          "enfp",
          "enfp",
          "enfp",
          "enfp",
          "enfp",
          "enfp",
          "enfp",
          "enfp",
          "enfp",
          "enfp",
          "enfp",
          "enfp",
          "enfp",
          "enfp",
          "enfp",
          "enfp",
          "enfp",
          "enfp",
          "enfp",
          "enfp",
          "enfp",
          "enfp",
          "enfp",
          "enfp",
          "enfp",
          "enfp",
          "enfp",
          "enfp",
          "enfp",
          "enfp",
          "enfp",
          "enfp",
          "enfp",
          "enfp",
          "enfp",
          "enfp",
          "enfp",
          "enfp",
          "enfp",
          "enfp",
          "enfp",
          "enfp",
          "enfp",
          "enfp",
          "enfp",
          "enfp",
          "enfp",
          "enfp",
          "enfp",
          "enfp",
          "enfp",
          "enfp",
          "enfp",
          "enfp",
          "enfp",
          "enfp",
          "enfp",
          "enfp",
          "enfp",
          "enfj",
          "enfj",
          "enfj",
          "enfj",
          "enfj",
          "enfj",
          "enfj",
          "enfj",
          "enfj",
          "enfj",
          "enfj",
          "enfj",
          "enfj",
          "enfj",
          "enfj",
          "enfj",
          "enfj",
          "enfj",
          "enfj",
          "enfj",
          "enfj",
          "enfj",
          "enfj",
          "enfj",
          "enfj",
          "enfj",
          "enfj",
          "enfj",
          "enfj",
          "enfj",
          "enfj",
          "enfj",
          "enfj",
          "enfj",
          "enfj",
          "enfj",
          "enfj",
          "enfj",
          "enfj",
          "enfj",
          "enfj",
          "enfj",
          "enfj",
          "enfj",
          "enfj",
          "enfj",
          "enfj",
          "enfj",
          "enfj",
          "enfj",
          "enfj",
          "enfj",
          "enfj",
          "enfj",
          "enfj",
          "enfj",
          "enfj",
          "enfj",
          "enfj",
          "enfj",
          "entp",
          "entp",
          "entp",
          "entp",
          "entp",
          "entp",
          "entp",
          "entp",
          "entp",
          "entp",
          "entp",
          "entp",
          "entp",
          "entp",
          "entp",
          "entp",
          "entp",
          "entp",
          "entp",
          "entp",
          "entp",
          "entp",
          "entp",
          "entp",
          "entp",
          "entp",
          "entp",
          "entp",
          "entp",
          "entp",
          "entp",
          "entp",
          "entp",
          "entp",
          "entp",
          "entp",
          "entp",
          "entp",
          "entp",
          "entp",
          "entp",
          "entp",
          "entp",
          "entp",
          "entp",
          "entp",
          "entp",
          "entp",
          "entp",
          "entp",
          "entp",
          "entp",
          "entp",
          "entp",
          "entp",
          "entp",
          "entp",
          "entp",
          "entp",
          "entp",
          "entp",
          "entp",
          "entp",
          "entp",
          "entp",
          "entp",
          "entp",
          "entp",
          "entp",
          "entj",
          "entj",
          "entj",
          "entj",
          "entj",
          "entj",
          "entj",
          "entj",
          "entj",
          "entj",
          "entj",
          "entj",
          "entj",
          "entj",
          "entj",
          "entj",
          "entj",
          "entj",
          "entj",
          "entj",
          "entj",
          "entj",
          "entj",
          "entj",
          "entj",
          "entj",
          "entj",
          "entj",
          "entj",
          "entj",
          "entj",
          "entj",
          "entj",
          "entj",
          "entj",
          "entj",
          "entj",
          "entj",
          "entj",
          "entj",
          "entj",
          "entj",
          "entj",
          "entj",
          "entj",
          "entj",
          "entj",
          "entj",
          "entj",
          "entj",
          "entj",
          "entj",
          "entj",
          "entj",
          "entj",
          "entj",
          "entj",
          "entj",
          "entj",
          "entj",
          "entj",
          "entj",
          "entj",
          "entj",
          "entj",
          "entj",
          "entj",
          "entj",
          "entj",
          "entj",
          "esfp",
          "esfp",
          "esfp",
          "esfp",
          "esfp",
          "esfp",
          "esfp",
          "esfp",
          "esfp",
          "esfp",
          "esfp",
          "esfp",
          "esfp",
          "esfp",
          "esfp",
          "esfp",
          "esfp",
          "esfp",
          "esfp",
          "esfp",
          "esfp",
          "esfp",
          "esfp",
          "esfp",
          "esfp",
          "esfp",
          "esfp",
          "esfp",
          "esfp",
          "esfp",
          "esfp",
          "esfp",
          "esfp",
          "esfp",
          "esfp",
          "esfp",
          "esfp",
          "esfp",
          "esfp",
          "esfp",
          "esfp",
          "esfp",
          "esfp",
          "esfp",
          "esfp",
          "esfp",
          "esfp",
          "esfp",
          "esfp",
          "esfp",
          "esfp",
          "esfp",
          "esfp",
          "esfp",
          "esfp",
          "esfp",
          "esfp",
          "esfp",
          "esfp",
          "esfp",
          "esfp",
          "esfj",
          "esfj",
          "esfj",
          "esfj",
          "esfj",
          "esfj",
          "esfj",
          "esfj",
          "esfj",
          "esfj",
          "esfj",
          "esfj",
          "esfj",
          "esfj",
          "esfj",
          "esfj",
          "esfj",
          "esfj",
          "esfj",
          "esfj",
          "esfj",
          "esfj",
          "esfj",
          "esfj",
          "esfj",
          "esfj",
          "esfj",
          "esfj",
          "esfj",
          "esfj",
          "esfj",
          "esfj",
          "esfj",
          "esfj",
          "esfj",
          "esfj",
          "esfj",
          "esfj",
          "esfj",
          "esfj",
          "esfj",
          "esfj",
          "esfj",
          "esfj",
          "esfj",
          "esfj",
          "esfj",
          "esfj",
          "esfj",
          "esfj",
          "esfj",
          "esfj",
          "esfj",
          "esfj",
          "esfj",
          "esfj",
          "esfj",
          "esfj",
          "estp",
          "estp",
          "estp",
          "estp",
          "estp",
          "estp",
          "estp",
          "estp",
          "estp",
          "estp",
          "estp",
          "estp",
          "estp",
          "estp",
          "estp",
          "estp",
          "estp",
          "estp",
          "estp",
          "estp",
          "estp",
          "estp",
          "estp",
          "estp",
          "estp",
          "estp",
          "estp",
          "estp",
          "estp",
          "estp",
          "estp",
          "estp",
          "estp",
          "estp",
          "estp",
          "estp",
          "estp",
          "estp",
          "estp",
          "estp",
          "estp",
          "estp",
          "estp",
          "estp",
          "estp",
          "estp",
          "estp",
          "estp",
          "estp",
          "estp",
          "estp",
          "estp",
          "estp",
          "estp",
          "estp",
          "estp",
          "estp",
          "estp",
          "estp",
          "estp",
          "estp",
          "estp",
          "estj",
          "estj",
          "estj",
          "estj",
          "estj",
          "estj",
          "estj",
          "estj",
          "estj",
          "estj",
          "estj",
          "estj",
          "estj",
          "estj",
          "estj",
          "estj",
          "estj",
          "estj",
          "estj",
          "estj",
          "estj",
          "estj",
          "estj",
          "estj",
          "estj",
          "estj",
          "estj",
          "estj",
          "estj",
          "estj",
          "estj",
          "estj",
          "estj",
          "estj",
          "estj",
          "estj",
          "estj",
          "estj",
          "estj",
          "estj",
          "estj",
          "estj",
          "estj",
          "estj",
          "estj",
          "estj",
          "estj",
          "estj",
          "estj",
          "estj",
          "estj",
          "estj",
          "estj",
          "estj",
          "estj",
          "estj"
         ],
         "x0": " ",
         "xaxis": "x",
         "y": [
          0.676,
          0.5640000000000001,
          0.585,
          0.722,
          0.548,
          0.425,
          0.975,
          0.667,
          0.519,
          0.389,
          0.791,
          0.363,
          0.6890000000000001,
          0.62,
          0.587,
          0.608,
          0.52,
          0.506,
          0.5740000000000001,
          0.625,
          0.223,
          0.6980000000000001,
          0.55,
          0.726,
          0.621,
          0.295,
          0.726,
          0.761,
          0.6950000000000001,
          0.492,
          0.661,
          0.486,
          0.731,
          0.608,
          0.6880000000000001,
          0.518,
          0.5680000000000001,
          0.667,
          0.726,
          0.927,
          0.392,
          0.879,
          0.402,
          0.41200000000000003,
          0.595,
          0.617,
          0.457,
          0.722,
          0.585,
          0.665,
          0.669,
          0.389,
          0.975,
          0.791,
          0.667,
          0.363,
          0.35000000000000003,
          0.682,
          0.62,
          0.52,
          0.55,
          0.608,
          0.625,
          0.211,
          0.901,
          0.676,
          0.512,
          0.48,
          0.495,
          0.467,
          0.516,
          0.6920000000000001,
          0.676,
          0.48,
          0.591,
          0.809,
          0.651,
          0.527,
          0.519,
          0.623,
          0.371,
          0.587,
          0.498,
          0.523,
          0.5680000000000001,
          0.548,
          0.753,
          0.585,
          0.608,
          0.247,
          0.67,
          0.975,
          0.582,
          0.8270000000000001,
          0.62,
          0.667,
          0.52,
          0.363,
          0.41600000000000004,
          0.47200000000000003,
          0.625,
          0.579,
          0.194,
          0.445,
          0.607,
          0.584,
          0.529,
          0.5760000000000001,
          0.716,
          0.338,
          0.378,
          0.529,
          0.28400000000000003,
          0.17400000000000002,
          0.513,
          0.372,
          0.384,
          0.372,
          0.382,
          0.923,
          0.525,
          0.34400000000000003,
          0.444,
          0.539,
          0.8230000000000001,
          0.722,
          0.38,
          0.585,
          0.52,
          0.975,
          0.669,
          0.389,
          0.67,
          0.663,
          0.791,
          0.667,
          0.55,
          0.608,
          0.613,
          0.62,
          0.583,
          0.676,
          0.484,
          0.155,
          0.5760000000000001,
          0.452,
          0.625,
          0.8280000000000001,
          0.17400000000000002,
          0.716,
          0.543,
          0.363,
          0.617,
          0.651,
          0.5710000000000001,
          0.582,
          0.608,
          0.669,
          0.776,
          0.46900000000000003,
          0.594,
          0.555,
          0.593,
          0.756,
          0.525,
          0.529,
          0.591,
          0.682,
          0.382,
          0.47200000000000003,
          0.919,
          0.734,
          0.334,
          0.369,
          0.592,
          0.52,
          0.41500000000000004,
          0.481,
          0.543,
          0.44,
          0.811,
          0.422,
          0.518,
          0.624,
          0.247,
          0.551,
          0.504,
          0.657,
          0.462,
          0.504,
          0.223,
          0.41300000000000003,
          0.732,
          0.708,
          0.554,
          0.365,
          0.5760000000000001,
          0.505,
          0.532,
          0.453,
          0.614,
          0.722,
          0.434,
          0.61,
          0.311,
          0.486,
          0.601,
          0.73,
          0.6960000000000001,
          0.709,
          0.733,
          0.745,
          0.8140000000000001,
          0.809,
          0.722,
          0.678,
          0.9490000000000001,
          0.535,
          0.753,
          0.464,
          0.433,
          0.8280000000000001,
          0.975,
          0.428,
          0.438,
          0.886,
          0.5750000000000001,
          0.135,
          0.632,
          0.295,
          0.581,
          0.642,
          0.55,
          0.5,
          0.67,
          0.521,
          0.5740000000000001,
          0.663,
          0.434,
          0.784,
          0.516,
          0.637,
          0.268,
          0.812,
          0.834,
          0.616,
          0.889,
          0.464,
          0.7000000000000001,
          0.757,
          0.675,
          0.609,
          0.588,
          0.715,
          0.8180000000000001,
          0.232,
          0.864,
          0.639,
          0.534,
          0.507,
          0.512,
          0.516,
          0.5760000000000001,
          0.247,
          0.48,
          0.511,
          0.495,
          0.797,
          0.523,
          0.377,
          0.52,
          0.578,
          0.919,
          0.866,
          0.5740000000000001,
          0.545,
          0.486,
          0.612,
          0.602,
          0.74,
          0.456,
          0.601,
          0.511,
          0.538,
          0.545,
          0.863,
          0.655,
          0.626,
          0.646,
          0.451,
          0.716,
          0.497,
          0.40900000000000003,
          0.662,
          0.538,
          0.509,
          0.657,
          0.737,
          0.768,
          0.557,
          0.756,
          0.726,
          0.75,
          0.602,
          0.5660000000000001,
          0.608,
          0.5650000000000001,
          0.639,
          0.379,
          0.47900000000000004,
          0.93,
          0.306,
          0.637,
          0.432,
          0.231,
          0.546,
          0.639,
          0.72,
          0.591,
          0.449,
          0.6970000000000001,
          0.58,
          0.633,
          0.5660000000000001,
          0.704,
          0.509,
          0.53,
          0.52,
          0.722,
          0.553,
          0.753,
          0.37,
          0.975,
          0.433,
          0.608,
          0.612,
          0.919,
          0.406,
          0.784,
          0.634,
          0.52,
          0.341,
          0.608,
          0.607,
          0.463,
          0.526,
          0.135,
          0.486,
          0.582,
          0.5730000000000001,
          0.6910000000000001,
          0.41400000000000003,
          0.6970000000000001,
          0.735,
          0.7000000000000001,
          0.14200000000000002,
          0.559,
          0.458,
          0.6940000000000001,
          0.705,
          0.8180000000000001,
          0.5650000000000001,
          0.616,
          0.806,
          0.664,
          0.608,
          0.71,
          0.615,
          0.763,
          0.588,
          0.682,
          0.641,
          0.352,
          0.515,
          0.704,
          0.638,
          0.497,
          0.64,
          0.716,
          0.7010000000000001,
          0.325,
          0.418,
          0.502,
          0.8270000000000001,
          0.378,
          0.5740000000000001,
          0.221,
          0.744,
          0.585,
          0.538,
          0.512,
          0.639,
          0.734,
          0.391,
          0.732,
          0.585,
          0.669,
          0.611,
          0.724,
          0.642,
          0.496,
          0.617,
          0.40800000000000003,
          0.8280000000000001,
          0.753,
          0.892,
          0.55,
          0.784,
          0.518,
          0.669,
          0.77,
          0.67,
          0.663,
          0.6900000000000001,
          0.389,
          0.6980000000000001,
          0.52,
          0.919,
          0.461,
          0.516,
          0.602,
          0.385,
          0.5660000000000001,
          0.56,
          0.551,
          0.638,
          0.6910000000000001,
          0.6960000000000001,
          0.5,
          0.464,
          0.7000000000000001,
          0.53,
          0.71,
          0.512,
          0.761,
          0.579,
          0.655,
          0.517,
          0.634,
          0.5760000000000001,
          0.622,
          0.404,
          0.446,
          0.579,
          0.598,
          0.515,
          0.526,
          0.754,
          0.542,
          0.732,
          0.6970000000000001,
          0.765,
          0.632,
          0.838,
          0.735,
          0.486,
          0.5720000000000001,
          0.648,
          0.643,
          0.681,
          0.633,
          0.705,
          0.502,
          0.487,
          0.585,
          0.61,
          0.432,
          0.656,
          0.453,
          0.494,
          0.496,
          0.548,
          0.722,
          0.359,
          0.55,
          0.526,
          0.67,
          0.507,
          0.648,
          0.672,
          0.585,
          0.919,
          0.52,
          0.752,
          0.391,
          0.636,
          0.661,
          0.435,
          0.8310000000000001,
          0.8260000000000001,
          0.611,
          0.56,
          0.629,
          0.5680000000000001,
          0.525,
          0.393,
          0.549,
          0.449,
          0.532,
          0.549,
          0.655,
          0.554,
          0.606,
          0.766,
          0.765,
          0.52,
          0.593,
          0.602,
          0.388,
          0.6960000000000001,
          0.47100000000000003,
          0.811,
          0.598,
          0.609,
          0.51,
          0.5680000000000001,
          0.393,
          0.637,
          0.449,
          0.632,
          0.664,
          0.5640000000000001,
          0.244,
          0.705,
          0.399,
          0.669,
          0.656,
          0.453,
          0.7030000000000001,
          0.455,
          0.662,
          0.535,
          0.372,
          0.464,
          0.753,
          0.496,
          0.8280000000000001,
          0.669,
          0.892,
          0.526,
          0.737,
          0.406,
          0.494,
          0.6900000000000001,
          0.893,
          0.548,
          0.7020000000000001,
          0.6980000000000001,
          0.776,
          0.587,
          0.417,
          0.8240000000000001,
          0.502,
          0.31,
          0.455,
          0.863,
          0.247,
          0.6960000000000001,
          0.28800000000000003,
          0.761,
          0.732,
          0.465,
          0.381,
          0.484,
          0.59,
          0.678,
          0.55,
          0.679,
          0.488,
          0.705,
          0.58,
          0.728,
          0.635,
          0.515,
          0.588,
          0.733,
          0.633,
          0.521,
          0.506,
          0.668,
          0.368,
          0.559,
          0.561,
          0.5760000000000001,
          0.776,
          0.732,
          0.855,
          0.663,
          0.516,
          0.562,
          0.632,
          0.577,
          0.717,
          0.38,
          0.719,
          0.656,
          0.453,
          0.617,
          0.602,
          0.745,
          0.49,
          0.7030000000000001,
          0.753,
          0.707,
          0.975,
          0.919,
          0.406,
          0.494,
          0.404,
          0.587,
          0.664,
          0.801,
          0.357,
          0.5730000000000001,
          0.8200000000000001,
          0.6920000000000001,
          0.487,
          0.526,
          0.5650000000000001,
          0.802,
          0.644,
          0.354,
          0.77,
          0.5700000000000001,
          0.393,
          0.532,
          0.765,
          0.365,
          0.557,
          0.6980000000000001,
          0.356,
          0.7010000000000001,
          0.605,
          0.933,
          0.31,
          0.794,
          0.838,
          0.6970000000000001,
          0.656,
          0.549,
          0.8180000000000001,
          0.616,
          0.756,
          0.8130000000000001,
          0.535,
          0.725,
          0.662,
          0.778,
          0.678,
          0.732,
          0.562,
          0.445,
          0.637,
          0.62,
          0.577,
          0.5730000000000001,
          0.611,
          0.776,
          0.515,
          0.502,
          0.307,
          0.49,
          0.66,
          0.494,
          0.725,
          0.38,
          0.656,
          0.319,
          0.559,
          0.598,
          0.919,
          0.507,
          0.68,
          0.433,
          0.979,
          0.431,
          0.52,
          0.316,
          0.8140000000000001,
          0.653,
          0.512,
          0.793,
          0.862,
          0.448,
          0.798,
          0.71,
          0.686,
          0.7010000000000001,
          0.592,
          0.707,
          0.8300000000000001,
          0.724,
          0.744,
          0.628,
          0.548,
          0.917,
          0.885,
          0.738,
          0.676,
          0.611,
          0.644,
          0.6970000000000001,
          0.683,
          0.7010000000000001,
          0.641,
          0.885,
          0.484,
          0.754,
          0.787,
          0.606,
          0.846,
          0.46,
          0.746,
          0.501,
          0.747,
          0.682,
          0.497,
          0.801,
          0.766,
          0.753,
          0.784,
          0.711,
          0.923,
          0.794,
          0.707,
          0.522,
          0.244,
          0.975,
          0.585,
          0.46900000000000003,
          0.919,
          0.578,
          0.47000000000000003,
          0.655,
          0.444,
          0.666,
          0.778,
          0.645,
          0.724,
          0.504,
          0.717,
          0.65,
          0.516,
          0.462,
          0.778,
          0.586,
          0.34600000000000003,
          0.273,
          0.58,
          0.484,
          0.6960000000000001,
          0.359,
          0.81,
          0.602,
          0.52,
          0.517,
          0.806,
          0.624,
          0.63,
          0.773,
          0.678,
          0.422,
          0.781,
          0.47600000000000003,
          0.495,
          0.522,
          0.708,
          0.628,
          0.458,
          0.723,
          0.609,
          0.632,
          0.676,
          0.632,
          0.614,
          0.633,
          0.673,
          0.643,
          0.7010000000000001,
          0.676,
          0.561,
          0.507,
          0.853,
          0.5750000000000001,
          0.52,
          0.722,
          0.7030000000000001,
          0.778,
          0.647,
          0.578,
          0.722,
          0.559,
          0.919,
          0.728,
          0.907,
          0.38,
          0.581,
          0.917,
          0.495,
          0.8290000000000001,
          0.707,
          0.707,
          0.886,
          0.547,
          0.613,
          0.706,
          0.463,
          0.621,
          0.536,
          0.543,
          0.7020000000000001,
          0.614,
          0.767,
          0.482,
          0.639,
          0.686,
          0.861,
          0.598,
          0.834,
          0.618,
          0.527,
          0.886,
          0.712,
          0.927,
          0.5760000000000001,
          0.764,
          0.717,
          0.582,
          0.48,
          0.8270000000000001,
          0.521,
          0.582,
          0.79,
          0.619,
          0.883,
          0.809,
          0.724,
          0.611,
          0.578,
          0.397,
          0.431,
          0.661,
          0.68,
          0.583,
          0.714,
          0.5670000000000001,
          0.56,
          0.75,
          0.975,
          0.562,
          0.919,
          0.606,
          0.519,
          0.529,
          0.672,
          0.366,
          0.512,
          0.596,
          0.46900000000000003,
          0.72,
          0.56,
          0.8180000000000001,
          0.675,
          0.606,
          0.5680000000000001,
          0.518,
          0.759,
          0.549,
          0.506,
          0.445,
          0.551,
          0.443,
          0.34400000000000003,
          0.742,
          0.434,
          0.44,
          0.455,
          0.589,
          0.596,
          0.41300000000000003,
          0.40800000000000003,
          0.31,
          0.491,
          0.365,
          0.481,
          0.6980000000000001,
          0.523,
          0.5660000000000001,
          0.59,
          0.644,
          0.731,
          0.513,
          0.656,
          0.559,
          0.5630000000000001,
          0.392,
          0.5630000000000001,
          0.493,
          0.385,
          0.276,
          0.671,
          0.627,
          0.652,
          0.521,
          0.722
         ],
         "y0": " ",
         "yaxis": "y"
        }
       ],
       "layout": {
        "boxmode": "group",
        "legend": {
         "tracegroupgap": 0
        },
        "margin": {
         "t": 60
        },
        "template": {
         "data": {
          "bar": [
           {
            "error_x": {
             "color": "#2a3f5f"
            },
            "error_y": {
             "color": "#2a3f5f"
            },
            "marker": {
             "line": {
              "color": "#E5ECF6",
              "width": 0.5
             },
             "pattern": {
              "fillmode": "overlay",
              "size": 10,
              "solidity": 0.2
             }
            },
            "type": "bar"
           }
          ],
          "barpolar": [
           {
            "marker": {
             "line": {
              "color": "#E5ECF6",
              "width": 0.5
             },
             "pattern": {
              "fillmode": "overlay",
              "size": 10,
              "solidity": 0.2
             }
            },
            "type": "barpolar"
           }
          ],
          "carpet": [
           {
            "aaxis": {
             "endlinecolor": "#2a3f5f",
             "gridcolor": "white",
             "linecolor": "white",
             "minorgridcolor": "white",
             "startlinecolor": "#2a3f5f"
            },
            "baxis": {
             "endlinecolor": "#2a3f5f",
             "gridcolor": "white",
             "linecolor": "white",
             "minorgridcolor": "white",
             "startlinecolor": "#2a3f5f"
            },
            "type": "carpet"
           }
          ],
          "choropleth": [
           {
            "colorbar": {
             "outlinewidth": 0,
             "ticks": ""
            },
            "type": "choropleth"
           }
          ],
          "contour": [
           {
            "colorbar": {
             "outlinewidth": 0,
             "ticks": ""
            },
            "colorscale": [
             [
              0,
              "#0d0887"
             ],
             [
              0.1111111111111111,
              "#46039f"
             ],
             [
              0.2222222222222222,
              "#7201a8"
             ],
             [
              0.3333333333333333,
              "#9c179e"
             ],
             [
              0.4444444444444444,
              "#bd3786"
             ],
             [
              0.5555555555555556,
              "#d8576b"
             ],
             [
              0.6666666666666666,
              "#ed7953"
             ],
             [
              0.7777777777777778,
              "#fb9f3a"
             ],
             [
              0.8888888888888888,
              "#fdca26"
             ],
             [
              1,
              "#f0f921"
             ]
            ],
            "type": "contour"
           }
          ],
          "contourcarpet": [
           {
            "colorbar": {
             "outlinewidth": 0,
             "ticks": ""
            },
            "type": "contourcarpet"
           }
          ],
          "heatmap": [
           {
            "colorbar": {
             "outlinewidth": 0,
             "ticks": ""
            },
            "colorscale": [
             [
              0,
              "#0d0887"
             ],
             [
              0.1111111111111111,
              "#46039f"
             ],
             [
              0.2222222222222222,
              "#7201a8"
             ],
             [
              0.3333333333333333,
              "#9c179e"
             ],
             [
              0.4444444444444444,
              "#bd3786"
             ],
             [
              0.5555555555555556,
              "#d8576b"
             ],
             [
              0.6666666666666666,
              "#ed7953"
             ],
             [
              0.7777777777777778,
              "#fb9f3a"
             ],
             [
              0.8888888888888888,
              "#fdca26"
             ],
             [
              1,
              "#f0f921"
             ]
            ],
            "type": "heatmap"
           }
          ],
          "heatmapgl": [
           {
            "colorbar": {
             "outlinewidth": 0,
             "ticks": ""
            },
            "colorscale": [
             [
              0,
              "#0d0887"
             ],
             [
              0.1111111111111111,
              "#46039f"
             ],
             [
              0.2222222222222222,
              "#7201a8"
             ],
             [
              0.3333333333333333,
              "#9c179e"
             ],
             [
              0.4444444444444444,
              "#bd3786"
             ],
             [
              0.5555555555555556,
              "#d8576b"
             ],
             [
              0.6666666666666666,
              "#ed7953"
             ],
             [
              0.7777777777777778,
              "#fb9f3a"
             ],
             [
              0.8888888888888888,
              "#fdca26"
             ],
             [
              1,
              "#f0f921"
             ]
            ],
            "type": "heatmapgl"
           }
          ],
          "histogram": [
           {
            "marker": {
             "pattern": {
              "fillmode": "overlay",
              "size": 10,
              "solidity": 0.2
             }
            },
            "type": "histogram"
           }
          ],
          "histogram2d": [
           {
            "colorbar": {
             "outlinewidth": 0,
             "ticks": ""
            },
            "colorscale": [
             [
              0,
              "#0d0887"
             ],
             [
              0.1111111111111111,
              "#46039f"
             ],
             [
              0.2222222222222222,
              "#7201a8"
             ],
             [
              0.3333333333333333,
              "#9c179e"
             ],
             [
              0.4444444444444444,
              "#bd3786"
             ],
             [
              0.5555555555555556,
              "#d8576b"
             ],
             [
              0.6666666666666666,
              "#ed7953"
             ],
             [
              0.7777777777777778,
              "#fb9f3a"
             ],
             [
              0.8888888888888888,
              "#fdca26"
             ],
             [
              1,
              "#f0f921"
             ]
            ],
            "type": "histogram2d"
           }
          ],
          "histogram2dcontour": [
           {
            "colorbar": {
             "outlinewidth": 0,
             "ticks": ""
            },
            "colorscale": [
             [
              0,
              "#0d0887"
             ],
             [
              0.1111111111111111,
              "#46039f"
             ],
             [
              0.2222222222222222,
              "#7201a8"
             ],
             [
              0.3333333333333333,
              "#9c179e"
             ],
             [
              0.4444444444444444,
              "#bd3786"
             ],
             [
              0.5555555555555556,
              "#d8576b"
             ],
             [
              0.6666666666666666,
              "#ed7953"
             ],
             [
              0.7777777777777778,
              "#fb9f3a"
             ],
             [
              0.8888888888888888,
              "#fdca26"
             ],
             [
              1,
              "#f0f921"
             ]
            ],
            "type": "histogram2dcontour"
           }
          ],
          "mesh3d": [
           {
            "colorbar": {
             "outlinewidth": 0,
             "ticks": ""
            },
            "type": "mesh3d"
           }
          ],
          "parcoords": [
           {
            "line": {
             "colorbar": {
              "outlinewidth": 0,
              "ticks": ""
             }
            },
            "type": "parcoords"
           }
          ],
          "pie": [
           {
            "automargin": true,
            "type": "pie"
           }
          ],
          "scatter": [
           {
            "fillpattern": {
             "fillmode": "overlay",
             "size": 10,
             "solidity": 0.2
            },
            "type": "scatter"
           }
          ],
          "scatter3d": [
           {
            "line": {
             "colorbar": {
              "outlinewidth": 0,
              "ticks": ""
             }
            },
            "marker": {
             "colorbar": {
              "outlinewidth": 0,
              "ticks": ""
             }
            },
            "type": "scatter3d"
           }
          ],
          "scattercarpet": [
           {
            "marker": {
             "colorbar": {
              "outlinewidth": 0,
              "ticks": ""
             }
            },
            "type": "scattercarpet"
           }
          ],
          "scattergeo": [
           {
            "marker": {
             "colorbar": {
              "outlinewidth": 0,
              "ticks": ""
             }
            },
            "type": "scattergeo"
           }
          ],
          "scattergl": [
           {
            "marker": {
             "colorbar": {
              "outlinewidth": 0,
              "ticks": ""
             }
            },
            "type": "scattergl"
           }
          ],
          "scattermapbox": [
           {
            "marker": {
             "colorbar": {
              "outlinewidth": 0,
              "ticks": ""
             }
            },
            "type": "scattermapbox"
           }
          ],
          "scatterpolar": [
           {
            "marker": {
             "colorbar": {
              "outlinewidth": 0,
              "ticks": ""
             }
            },
            "type": "scatterpolar"
           }
          ],
          "scatterpolargl": [
           {
            "marker": {
             "colorbar": {
              "outlinewidth": 0,
              "ticks": ""
             }
            },
            "type": "scatterpolargl"
           }
          ],
          "scatterternary": [
           {
            "marker": {
             "colorbar": {
              "outlinewidth": 0,
              "ticks": ""
             }
            },
            "type": "scatterternary"
           }
          ],
          "surface": [
           {
            "colorbar": {
             "outlinewidth": 0,
             "ticks": ""
            },
            "colorscale": [
             [
              0,
              "#0d0887"
             ],
             [
              0.1111111111111111,
              "#46039f"
             ],
             [
              0.2222222222222222,
              "#7201a8"
             ],
             [
              0.3333333333333333,
              "#9c179e"
             ],
             [
              0.4444444444444444,
              "#bd3786"
             ],
             [
              0.5555555555555556,
              "#d8576b"
             ],
             [
              0.6666666666666666,
              "#ed7953"
             ],
             [
              0.7777777777777778,
              "#fb9f3a"
             ],
             [
              0.8888888888888888,
              "#fdca26"
             ],
             [
              1,
              "#f0f921"
             ]
            ],
            "type": "surface"
           }
          ],
          "table": [
           {
            "cells": {
             "fill": {
              "color": "#EBF0F8"
             },
             "line": {
              "color": "white"
             }
            },
            "header": {
             "fill": {
              "color": "#C8D4E3"
             },
             "line": {
              "color": "white"
             }
            },
            "type": "table"
           }
          ]
         },
         "layout": {
          "annotationdefaults": {
           "arrowcolor": "#2a3f5f",
           "arrowhead": 0,
           "arrowwidth": 1
          },
          "autotypenumbers": "strict",
          "coloraxis": {
           "colorbar": {
            "outlinewidth": 0,
            "ticks": ""
           }
          },
          "colorscale": {
           "diverging": [
            [
             0,
             "#8e0152"
            ],
            [
             0.1,
             "#c51b7d"
            ],
            [
             0.2,
             "#de77ae"
            ],
            [
             0.3,
             "#f1b6da"
            ],
            [
             0.4,
             "#fde0ef"
            ],
            [
             0.5,
             "#f7f7f7"
            ],
            [
             0.6,
             "#e6f5d0"
            ],
            [
             0.7,
             "#b8e186"
            ],
            [
             0.8,
             "#7fbc41"
            ],
            [
             0.9,
             "#4d9221"
            ],
            [
             1,
             "#276419"
            ]
           ],
           "sequential": [
            [
             0,
             "#0d0887"
            ],
            [
             0.1111111111111111,
             "#46039f"
            ],
            [
             0.2222222222222222,
             "#7201a8"
            ],
            [
             0.3333333333333333,
             "#9c179e"
            ],
            [
             0.4444444444444444,
             "#bd3786"
            ],
            [
             0.5555555555555556,
             "#d8576b"
            ],
            [
             0.6666666666666666,
             "#ed7953"
            ],
            [
             0.7777777777777778,
             "#fb9f3a"
            ],
            [
             0.8888888888888888,
             "#fdca26"
            ],
            [
             1,
             "#f0f921"
            ]
           ],
           "sequentialminus": [
            [
             0,
             "#0d0887"
            ],
            [
             0.1111111111111111,
             "#46039f"
            ],
            [
             0.2222222222222222,
             "#7201a8"
            ],
            [
             0.3333333333333333,
             "#9c179e"
            ],
            [
             0.4444444444444444,
             "#bd3786"
            ],
            [
             0.5555555555555556,
             "#d8576b"
            ],
            [
             0.6666666666666666,
             "#ed7953"
            ],
            [
             0.7777777777777778,
             "#fb9f3a"
            ],
            [
             0.8888888888888888,
             "#fdca26"
            ],
            [
             1,
             "#f0f921"
            ]
           ]
          },
          "colorway": [
           "#636efa",
           "#EF553B",
           "#00cc96",
           "#ab63fa",
           "#FFA15A",
           "#19d3f3",
           "#FF6692",
           "#B6E880",
           "#FF97FF",
           "#FECB52"
          ],
          "font": {
           "color": "#2a3f5f"
          },
          "geo": {
           "bgcolor": "white",
           "lakecolor": "white",
           "landcolor": "#E5ECF6",
           "showlakes": true,
           "showland": true,
           "subunitcolor": "white"
          },
          "hoverlabel": {
           "align": "left"
          },
          "hovermode": "closest",
          "mapbox": {
           "style": "light"
          },
          "paper_bgcolor": "white",
          "plot_bgcolor": "#E5ECF6",
          "polar": {
           "angularaxis": {
            "gridcolor": "white",
            "linecolor": "white",
            "ticks": ""
           },
           "bgcolor": "#E5ECF6",
           "radialaxis": {
            "gridcolor": "white",
            "linecolor": "white",
            "ticks": ""
           }
          },
          "scene": {
           "xaxis": {
            "backgroundcolor": "#E5ECF6",
            "gridcolor": "white",
            "gridwidth": 2,
            "linecolor": "white",
            "showbackground": true,
            "ticks": "",
            "zerolinecolor": "white"
           },
           "yaxis": {
            "backgroundcolor": "#E5ECF6",
            "gridcolor": "white",
            "gridwidth": 2,
            "linecolor": "white",
            "showbackground": true,
            "ticks": "",
            "zerolinecolor": "white"
           },
           "zaxis": {
            "backgroundcolor": "#E5ECF6",
            "gridcolor": "white",
            "gridwidth": 2,
            "linecolor": "white",
            "showbackground": true,
            "ticks": "",
            "zerolinecolor": "white"
           }
          },
          "shapedefaults": {
           "line": {
            "color": "#2a3f5f"
           }
          },
          "ternary": {
           "aaxis": {
            "gridcolor": "white",
            "linecolor": "white",
            "ticks": ""
           },
           "baxis": {
            "gridcolor": "white",
            "linecolor": "white",
            "ticks": ""
           },
           "bgcolor": "#E5ECF6",
           "caxis": {
            "gridcolor": "white",
            "linecolor": "white",
            "ticks": ""
           }
          },
          "title": {
           "x": 0.05
          },
          "xaxis": {
           "automargin": true,
           "gridcolor": "white",
           "linecolor": "white",
           "ticks": "",
           "title": {
            "standoff": 15
           },
           "zerolinecolor": "white",
           "zerolinewidth": 2
          },
          "yaxis": {
           "automargin": true,
           "gridcolor": "white",
           "linecolor": "white",
           "ticks": "",
           "title": {
            "standoff": 15
           },
           "zerolinecolor": "white",
           "zerolinewidth": 2
          }
         }
        },
        "xaxis": {
         "anchor": "y",
         "domain": [
          0,
          1
         ],
         "title": {
          "text": "class"
         }
        },
        "yaxis": {
         "anchor": "x",
         "domain": [
          0,
          1
         ],
         "title": {
          "text": "danceability"
         }
        }
       }
      }
     },
     "metadata": {},
     "output_type": "display_data"
    }
   ],
   "source": [
    "print(\"Danceability field\")\n",
    "\n",
    "fig = px.box(df, x=\"class\", y=\"danceability\")\n",
    "fig.show()"
   ]
  },
  {
   "cell_type": "code",
   "execution_count": 16,
   "metadata": {},
   "outputs": [
    {
     "name": "stdout",
     "output_type": "stream",
     "text": [
      "Energy field\n"
     ]
    },
    {
     "data": {
      "application/vnd.plotly.v1+json": {
       "config": {
        "plotlyServerURL": "https://plot.ly"
       },
       "data": [
        {
         "alignmentgroup": "True",
         "hovertemplate": "class=%{x}<br>energy=%{y}<extra></extra>",
         "legendgroup": "",
         "marker": {
          "color": "#636efa"
         },
         "name": "",
         "notched": false,
         "offsetgroup": "",
         "orientation": "v",
         "showlegend": false,
         "type": "box",
         "x": [
          "intj",
          "intj",
          "intj",
          "intj",
          "intj",
          "intj",
          "intj",
          "intj",
          "intj",
          "intj",
          "intj",
          "intj",
          "intj",
          "intj",
          "intj",
          "intj",
          "intj",
          "intj",
          "intj",
          "intj",
          "intj",
          "intj",
          "intj",
          "intj",
          "intj",
          "intj",
          "intj",
          "intj",
          "intj",
          "intj",
          "intj",
          "intj",
          "intj",
          "intj",
          "intj",
          "intj",
          "intj",
          "intj",
          "intj",
          "intj",
          "intj",
          "intj",
          "intp",
          "intp",
          "intp",
          "intp",
          "intp",
          "intp",
          "intp",
          "intp",
          "intp",
          "intp",
          "intp",
          "intp",
          "intp",
          "intp",
          "intp",
          "intp",
          "intp",
          "intp",
          "intp",
          "intp",
          "intp",
          "intp",
          "intp",
          "intp",
          "intp",
          "intp",
          "intp",
          "intp",
          "intp",
          "intp",
          "intp",
          "intp",
          "intp",
          "intp",
          "intp",
          "intp",
          "intp",
          "intp",
          "intp",
          "intp",
          "infj",
          "infj",
          "infj",
          "infj",
          "infj",
          "infj",
          "infj",
          "infj",
          "infj",
          "infj",
          "infj",
          "infj",
          "infj",
          "infj",
          "infj",
          "infj",
          "infj",
          "infj",
          "infj",
          "infj",
          "infj",
          "infj",
          "infj",
          "infj",
          "infj",
          "infj",
          "infj",
          "infj",
          "infj",
          "infj",
          "infj",
          "infj",
          "infj",
          "infj",
          "infj",
          "infj",
          "infj",
          "infj",
          "infj",
          "infj",
          "infj",
          "infp",
          "infp",
          "infp",
          "infp",
          "infp",
          "infp",
          "infp",
          "infp",
          "infp",
          "infp",
          "infp",
          "infp",
          "infp",
          "infp",
          "infp",
          "infp",
          "infp",
          "infp",
          "infp",
          "infp",
          "infp",
          "infp",
          "infp",
          "infp",
          "infp",
          "infp",
          "infp",
          "infp",
          "infp",
          "infp",
          "infp",
          "infp",
          "infp",
          "infp",
          "infp",
          "infp",
          "infp",
          "infp",
          "infp",
          "infp",
          "infp",
          "infp",
          "infp",
          "infp",
          "infp",
          "infp",
          "istj",
          "istj",
          "istj",
          "istj",
          "istj",
          "istj",
          "istj",
          "istj",
          "istj",
          "istj",
          "istj",
          "istj",
          "istj",
          "istj",
          "istj",
          "istj",
          "istj",
          "istj",
          "istj",
          "istj",
          "istj",
          "istj",
          "istj",
          "istj",
          "istj",
          "istj",
          "istj",
          "istj",
          "istj",
          "istj",
          "istj",
          "istj",
          "istj",
          "istj",
          "istj",
          "istj",
          "istj",
          "istj",
          "istj",
          "istj",
          "istj",
          "istj",
          "istj",
          "istj",
          "istj",
          "istj",
          "istp",
          "istp",
          "istp",
          "istp",
          "istp",
          "istp",
          "istp",
          "istp",
          "istp",
          "istp",
          "istp",
          "istp",
          "istp",
          "istp",
          "istp",
          "istp",
          "istp",
          "istp",
          "istp",
          "istp",
          "istp",
          "istp",
          "istp",
          "istp",
          "istp",
          "istp",
          "istp",
          "istp",
          "istp",
          "istp",
          "istp",
          "istp",
          "istp",
          "istp",
          "istp",
          "istp",
          "istp",
          "istp",
          "istp",
          "istp",
          "istp",
          "istp",
          "istp",
          "istp",
          "istp",
          "istp",
          "istp",
          "istp",
          "istp",
          "istp",
          "istp",
          "istp",
          "istp",
          "istp",
          "istp",
          "istp",
          "isfj",
          "isfj",
          "isfj",
          "isfj",
          "isfj",
          "isfj",
          "isfj",
          "isfj",
          "isfj",
          "isfj",
          "isfj",
          "isfj",
          "isfj",
          "isfj",
          "isfj",
          "isfj",
          "isfj",
          "isfj",
          "isfj",
          "isfj",
          "isfj",
          "isfj",
          "isfj",
          "isfj",
          "isfj",
          "isfj",
          "isfj",
          "isfj",
          "isfj",
          "isfj",
          "isfj",
          "isfj",
          "isfj",
          "isfj",
          "isfj",
          "isfj",
          "isfj",
          "isfj",
          "isfj",
          "isfj",
          "isfj",
          "isfj",
          "isfj",
          "isfj",
          "isfj",
          "isfj",
          "isfj",
          "isfj",
          "isfj",
          "isfj",
          "isfj",
          "isfj",
          "isfj",
          "isfj",
          "isfj",
          "isfj",
          "isfj",
          "isfj",
          "isfp",
          "isfp",
          "isfp",
          "isfp",
          "isfp",
          "isfp",
          "isfp",
          "isfp",
          "isfp",
          "isfp",
          "isfp",
          "isfp",
          "isfp",
          "isfp",
          "isfp",
          "isfp",
          "isfp",
          "isfp",
          "isfp",
          "isfp",
          "isfp",
          "isfp",
          "isfp",
          "isfp",
          "isfp",
          "isfp",
          "isfp",
          "isfp",
          "isfp",
          "isfp",
          "isfp",
          "isfp",
          "isfp",
          "isfp",
          "isfp",
          "isfp",
          "isfp",
          "isfp",
          "isfp",
          "isfp",
          "isfp",
          "isfp",
          "isfp",
          "isfp",
          "isfp",
          "isfp",
          "isfp",
          "isfp",
          "isfp",
          "isfp",
          "isfp",
          "isfp",
          "isfp",
          "isfp",
          "isfp",
          "isfp",
          "isfp",
          "isfp",
          "isfp",
          "isfp",
          "isfp",
          "isfp",
          "isfp",
          "isfp",
          "isfp",
          "isfp",
          "isfp",
          "isfp",
          "enfp",
          "enfp",
          "enfp",
          "enfp",
          "enfp",
          "enfp",
          "enfp",
          "enfp",
          "enfp",
          "enfp",
          "enfp",
          "enfp",
          "enfp",
          "enfp",
          "enfp",
          "enfp",
          "enfp",
          "enfp",
          "enfp",
          "enfp",
          "enfp",
          "enfp",
          "enfp",
          "enfp",
          "enfp",
          "enfp",
          "enfp",
          "enfp",
          "enfp",
          "enfp",
          "enfp",
          "enfp",
          "enfp",
          "enfp",
          "enfp",
          "enfp",
          "enfp",
          "enfp",
          "enfp",
          "enfp",
          "enfp",
          "enfp",
          "enfp",
          "enfp",
          "enfp",
          "enfp",
          "enfp",
          "enfp",
          "enfp",
          "enfp",
          "enfp",
          "enfp",
          "enfp",
          "enfp",
          "enfp",
          "enfp",
          "enfp",
          "enfp",
          "enfp",
          "enfp",
          "enfp",
          "enfp",
          "enfp",
          "enfp",
          "enfp",
          "enfp",
          "enfp",
          "enfp",
          "enfp",
          "enfp",
          "enfp",
          "enfp",
          "enfj",
          "enfj",
          "enfj",
          "enfj",
          "enfj",
          "enfj",
          "enfj",
          "enfj",
          "enfj",
          "enfj",
          "enfj",
          "enfj",
          "enfj",
          "enfj",
          "enfj",
          "enfj",
          "enfj",
          "enfj",
          "enfj",
          "enfj",
          "enfj",
          "enfj",
          "enfj",
          "enfj",
          "enfj",
          "enfj",
          "enfj",
          "enfj",
          "enfj",
          "enfj",
          "enfj",
          "enfj",
          "enfj",
          "enfj",
          "enfj",
          "enfj",
          "enfj",
          "enfj",
          "enfj",
          "enfj",
          "enfj",
          "enfj",
          "enfj",
          "enfj",
          "enfj",
          "enfj",
          "enfj",
          "enfj",
          "enfj",
          "enfj",
          "enfj",
          "enfj",
          "enfj",
          "enfj",
          "enfj",
          "enfj",
          "enfj",
          "enfj",
          "enfj",
          "enfj",
          "entp",
          "entp",
          "entp",
          "entp",
          "entp",
          "entp",
          "entp",
          "entp",
          "entp",
          "entp",
          "entp",
          "entp",
          "entp",
          "entp",
          "entp",
          "entp",
          "entp",
          "entp",
          "entp",
          "entp",
          "entp",
          "entp",
          "entp",
          "entp",
          "entp",
          "entp",
          "entp",
          "entp",
          "entp",
          "entp",
          "entp",
          "entp",
          "entp",
          "entp",
          "entp",
          "entp",
          "entp",
          "entp",
          "entp",
          "entp",
          "entp",
          "entp",
          "entp",
          "entp",
          "entp",
          "entp",
          "entp",
          "entp",
          "entp",
          "entp",
          "entp",
          "entp",
          "entp",
          "entp",
          "entp",
          "entp",
          "entp",
          "entp",
          "entp",
          "entp",
          "entp",
          "entp",
          "entp",
          "entp",
          "entp",
          "entp",
          "entp",
          "entp",
          "entp",
          "entj",
          "entj",
          "entj",
          "entj",
          "entj",
          "entj",
          "entj",
          "entj",
          "entj",
          "entj",
          "entj",
          "entj",
          "entj",
          "entj",
          "entj",
          "entj",
          "entj",
          "entj",
          "entj",
          "entj",
          "entj",
          "entj",
          "entj",
          "entj",
          "entj",
          "entj",
          "entj",
          "entj",
          "entj",
          "entj",
          "entj",
          "entj",
          "entj",
          "entj",
          "entj",
          "entj",
          "entj",
          "entj",
          "entj",
          "entj",
          "entj",
          "entj",
          "entj",
          "entj",
          "entj",
          "entj",
          "entj",
          "entj",
          "entj",
          "entj",
          "entj",
          "entj",
          "entj",
          "entj",
          "entj",
          "entj",
          "entj",
          "entj",
          "entj",
          "entj",
          "entj",
          "entj",
          "entj",
          "entj",
          "entj",
          "entj",
          "entj",
          "entj",
          "entj",
          "entj",
          "esfp",
          "esfp",
          "esfp",
          "esfp",
          "esfp",
          "esfp",
          "esfp",
          "esfp",
          "esfp",
          "esfp",
          "esfp",
          "esfp",
          "esfp",
          "esfp",
          "esfp",
          "esfp",
          "esfp",
          "esfp",
          "esfp",
          "esfp",
          "esfp",
          "esfp",
          "esfp",
          "esfp",
          "esfp",
          "esfp",
          "esfp",
          "esfp",
          "esfp",
          "esfp",
          "esfp",
          "esfp",
          "esfp",
          "esfp",
          "esfp",
          "esfp",
          "esfp",
          "esfp",
          "esfp",
          "esfp",
          "esfp",
          "esfp",
          "esfp",
          "esfp",
          "esfp",
          "esfp",
          "esfp",
          "esfp",
          "esfp",
          "esfp",
          "esfp",
          "esfp",
          "esfp",
          "esfp",
          "esfp",
          "esfp",
          "esfp",
          "esfp",
          "esfp",
          "esfp",
          "esfp",
          "esfj",
          "esfj",
          "esfj",
          "esfj",
          "esfj",
          "esfj",
          "esfj",
          "esfj",
          "esfj",
          "esfj",
          "esfj",
          "esfj",
          "esfj",
          "esfj",
          "esfj",
          "esfj",
          "esfj",
          "esfj",
          "esfj",
          "esfj",
          "esfj",
          "esfj",
          "esfj",
          "esfj",
          "esfj",
          "esfj",
          "esfj",
          "esfj",
          "esfj",
          "esfj",
          "esfj",
          "esfj",
          "esfj",
          "esfj",
          "esfj",
          "esfj",
          "esfj",
          "esfj",
          "esfj",
          "esfj",
          "esfj",
          "esfj",
          "esfj",
          "esfj",
          "esfj",
          "esfj",
          "esfj",
          "esfj",
          "esfj",
          "esfj",
          "esfj",
          "esfj",
          "esfj",
          "esfj",
          "esfj",
          "esfj",
          "esfj",
          "esfj",
          "estp",
          "estp",
          "estp",
          "estp",
          "estp",
          "estp",
          "estp",
          "estp",
          "estp",
          "estp",
          "estp",
          "estp",
          "estp",
          "estp",
          "estp",
          "estp",
          "estp",
          "estp",
          "estp",
          "estp",
          "estp",
          "estp",
          "estp",
          "estp",
          "estp",
          "estp",
          "estp",
          "estp",
          "estp",
          "estp",
          "estp",
          "estp",
          "estp",
          "estp",
          "estp",
          "estp",
          "estp",
          "estp",
          "estp",
          "estp",
          "estp",
          "estp",
          "estp",
          "estp",
          "estp",
          "estp",
          "estp",
          "estp",
          "estp",
          "estp",
          "estp",
          "estp",
          "estp",
          "estp",
          "estp",
          "estp",
          "estp",
          "estp",
          "estp",
          "estp",
          "estp",
          "estp",
          "estj",
          "estj",
          "estj",
          "estj",
          "estj",
          "estj",
          "estj",
          "estj",
          "estj",
          "estj",
          "estj",
          "estj",
          "estj",
          "estj",
          "estj",
          "estj",
          "estj",
          "estj",
          "estj",
          "estj",
          "estj",
          "estj",
          "estj",
          "estj",
          "estj",
          "estj",
          "estj",
          "estj",
          "estj",
          "estj",
          "estj",
          "estj",
          "estj",
          "estj",
          "estj",
          "estj",
          "estj",
          "estj",
          "estj",
          "estj",
          "estj",
          "estj",
          "estj",
          "estj",
          "estj",
          "estj",
          "estj",
          "estj",
          "estj",
          "estj",
          "estj",
          "estj",
          "estj",
          "estj",
          "estj",
          "estj"
         ],
         "x0": " ",
         "xaxis": "x",
         "y": [
          0.7030000000000001,
          0.647,
          0.006920000000000001,
          0.355,
          0.657,
          0.754,
          0.298,
          0.005620000000000001,
          0.41300000000000003,
          0.263,
          0.38,
          0.544,
          0.377,
          0.376,
          0.9430000000000001,
          0.675,
          0.1,
          0.932,
          0.5690000000000001,
          0.432,
          0.523,
          0.542,
          0.884,
          0.484,
          0.727,
          0.47800000000000004,
          0.63,
          0.529,
          0.232,
          0.611,
          0.836,
          0.614,
          0.629,
          0.845,
          0.786,
          0.934,
          0.5690000000000001,
          0.544,
          0.548,
          0.454,
          0.7020000000000001,
          0.588,
          0.97,
          0.927,
          0.6960000000000001,
          0.5670000000000001,
          0.965,
          0.355,
          0.006920000000000001,
          0.494,
          0.656,
          0.263,
          0.298,
          0.38,
          0.005620000000000001,
          0.544,
          0.707,
          0.859,
          0.376,
          0.1,
          0.884,
          0.675,
          0.432,
          0.361,
          0.464,
          0.7030000000000001,
          0.525,
          0.329,
          0.457,
          0.757,
          0.85,
          0.494,
          0.937,
          0.329,
          0.45,
          0.668,
          0.28600000000000003,
          0.922,
          0.41300000000000003,
          0.661,
          0.979,
          0.403,
          0.81,
          0.685,
          0.293,
          0.657,
          0.577,
          0.006920000000000001,
          0.675,
          0.438,
          0.35000000000000003,
          0.298,
          0.371,
          0.66,
          0.376,
          0.005620000000000001,
          0.1,
          0.544,
          0.389,
          0.627,
          0.432,
          0.41100000000000003,
          0.376,
          0.157,
          0.851,
          0.717,
          0.353,
          0.608,
          0.447,
          0.602,
          0.539,
          0.176,
          0.538,
          0.742,
          0.318,
          0.231,
          0.578,
          0.537,
          0.787,
          0.464,
          0.608,
          0.28700000000000003,
          0.459,
          0.548,
          0.338,
          0.773,
          0.24,
          0.006920000000000001,
          0.1,
          0.298,
          0.656,
          0.263,
          0.35000000000000003,
          0.449,
          0.38,
          0.005620000000000001,
          0.526,
          0.675,
          0.454,
          0.376,
          0.717,
          0.417,
          0.632,
          0.862,
          0.759,
          0.79,
          0.432,
          0.66,
          0.742,
          0.447,
          0.332,
          0.544,
          0.5740000000000001,
          0.546,
          0.655,
          0.81,
          0.638,
          0.91,
          0.626,
          0.591,
          0.355,
          0.8210000000000001,
          0.749,
          0.47500000000000003,
          0.872,
          0.353,
          0.746,
          0.9,
          0.787,
          0.605,
          0.179,
          0.637,
          0.276,
          0.845,
          0.637,
          0.761,
          0.31,
          0.524,
          0.623,
          0.04,
          0.266,
          0.302,
          0.14,
          0.423,
          0.438,
          0.306,
          0.498,
          0.355,
          0.836,
          0.891,
          0.523,
          0.0771,
          0.41300000000000003,
          0.7010000000000001,
          0.0723,
          0.291,
          0.894,
          0.836,
          0.47400000000000003,
          0.20800000000000002,
          0.318,
          0.781,
          0.302,
          0.59,
          0.485,
          0.617,
          0.706,
          0.718,
          0.5740000000000001,
          0.362,
          0.334,
          0.593,
          0.743,
          0.545,
          0.355,
          0.656,
          0.661,
          0.195,
          0.577,
          0.13,
          0.512,
          0.577,
          0.298,
          0.646,
          0.26,
          0.743,
          0.704,
          0.512,
          0.289,
          0.47800000000000004,
          0.656,
          0.538,
          0.884,
          0.8240000000000001,
          0.41300000000000003,
          0.453,
          0.839,
          0.577,
          0.709,
          0.542,
          0.764,
          0.929,
          0.742,
          0.784,
          0.663,
          0.51,
          0.34,
          0.417,
          0.934,
          0.625,
          0.63,
          0.8,
          0.521,
          0.723,
          0.705,
          0.705,
          0.495,
          0.628,
          0.974,
          0.803,
          0.525,
          0.755,
          0.759,
          0.438,
          0.329,
          0.806,
          0.457,
          0.755,
          0.47100000000000003,
          0.08310000000000001,
          0.1,
          0.669,
          0.179,
          0.211,
          0.46900000000000003,
          0.169,
          0.528,
          0.807,
          0.334,
          0.6880000000000001,
          0.364,
          0.649,
          0.47200000000000003,
          0.586,
          0.545,
          0.527,
          0.632,
          0.323,
          0.595,
          0.222,
          0.16,
          0.639,
          0.77,
          0.616,
          0.7010000000000001,
          0.262,
          0.812,
          0.40800000000000003,
          0.354,
          0.732,
          0.609,
          0.727,
          0.528,
          0.47100000000000003,
          0.366,
          0.305,
          0.6930000000000001,
          0.526,
          0.219,
          0.154,
          0.611,
          0.664,
          0.929,
          0.652,
          0.877,
          0.586,
          0.8160000000000001,
          0.625,
          0.746,
          0.8250000000000001,
          0.923,
          0.793,
          0.588,
          0.846,
          0.379,
          0.47800000000000004,
          0.512,
          0.1,
          0.355,
          0.8280000000000001,
          0.577,
          0.467,
          0.298,
          0.512,
          0.548,
          0.807,
          0.179,
          0.665,
          0.611,
          0.374,
          0.1,
          0.513,
          0.675,
          0.608,
          0.857,
          0.866,
          0.512,
          0.368,
          0.772,
          0.594,
          0.631,
          0.889,
          0.401,
          0.72,
          0.742,
          0.642,
          0.34500000000000003,
          0.795,
          0.556,
          0.373,
          0.562,
          0.8320000000000001,
          0.552,
          0.602,
          0.5760000000000001,
          0.528,
          0.847,
          0.523,
          0.421,
          0.521,
          0.683,
          0.842,
          0.928,
          0.47900000000000004,
          0.873,
          0.668,
          0.914,
          0.74,
          0.342,
          0.396,
          0.929,
          0.383,
          0.912,
          0.66,
          0.665,
          0.839,
          0.498,
          0.393,
          0.47700000000000004,
          0.296,
          0.6000000000000001,
          0.8160000000000001,
          0.637,
          0.45,
          0.627,
          0.006920000000000001,
          0.656,
          0.797,
          0.304,
          0.5700000000000001,
          0.468,
          0.5670000000000001,
          0.15,
          0.673,
          0.577,
          0.65,
          0.5660000000000001,
          0.611,
          0.273,
          0.656,
          0.29,
          0.35000000000000003,
          0.671,
          0.714,
          0.263,
          0.512,
          0.1,
          0.179,
          0.593,
          0.85,
          0.923,
          0.657,
          0.846,
          0.936,
          0.748,
          0.8200000000000001,
          0.631,
          0.483,
          0.748,
          0.417,
          0.742,
          0.8160000000000001,
          0.768,
          0.525,
          0.525,
          0.904,
          0.632,
          0.481,
          0.5,
          0.52,
          0.58,
          0.962,
          0.451,
          0.8150000000000001,
          0.888,
          0.47900000000000004,
          0.862,
          0.804,
          0.867,
          0.627,
          0.598,
          0.663,
          0.394,
          0.88,
          0.72,
          0.528,
          0.916,
          0.606,
          0.722,
          0.662,
          0.739,
          0.497,
          0.964,
          0.716,
          0.006920000000000001,
          0.616,
          0.6880000000000001,
          0.307,
          0.449,
          0.632,
          0.468,
          0.657,
          0.355,
          0.589,
          0.5660000000000001,
          0.735,
          0.35000000000000003,
          0.123,
          0.606,
          0.738,
          0.006920000000000001,
          0.179,
          0.1,
          0.615,
          0.45,
          0.46900000000000003,
          0.62,
          0.874,
          0.45,
          0.668,
          0.797,
          0.936,
          0.40700000000000003,
          0.89,
          0.588,
          0.858,
          0.935,
          0.585,
          0.495,
          0.767,
          0.632,
          0.315,
          0.799,
          0.354,
          0.663,
          0.852,
          0.851,
          0.923,
          0.338,
          0.483,
          0.924,
          0.719,
          0.888,
          0.6920000000000001,
          0.744,
          0.597,
          0.487,
          0.929,
          0.8250000000000001,
          0.394,
          0.5730000000000001,
          0.774,
          0.645,
          0.497,
          0.496,
          0.656,
          0.307,
          0.449,
          0.46,
          0.91,
          0.681,
          0.195,
          0.849,
          0.13,
          0.577,
          0.468,
          0.673,
          0.656,
          0.65,
          0.735,
          0.436,
          0.665,
          0.7030000000000001,
          0.47900000000000004,
          0.598,
          0.657,
          0.47300000000000003,
          0.512,
          0.78,
          0.9430000000000001,
          0.934,
          0.588,
          0.786,
          0.7000000000000001,
          0.867,
          0.782,
          0.438,
          0.483,
          0.758,
          0.797,
          0.396,
          0.848,
          0.794,
          0.649,
          0.683,
          0.533,
          0.9380000000000001,
          0.641,
          0.89,
          0.712,
          0.791,
          0.7000000000000001,
          0.914,
          0.869,
          0.521,
          0.71,
          0.739,
          0.885,
          0.8170000000000001,
          0.921,
          0.619,
          0.895,
          0.845,
          0.782,
          0.78,
          0.627,
          0.587,
          0.577,
          0.85,
          0.904,
          0.394,
          0.789,
          0.752,
          0.614,
          0.454,
          0.307,
          0.449,
          0.5670000000000001,
          0.902,
          0.466,
          0.753,
          0.46,
          0.577,
          0.9550000000000001,
          0.298,
          0.179,
          0.665,
          0.7030000000000001,
          0.67,
          0.9430000000000001,
          0.602,
          0.876,
          0.725,
          0.594,
          0.47700000000000004,
          0.711,
          0.625,
          0.64,
          0.848,
          0.756,
          0.47900000000000004,
          0.9420000000000001,
          0.896,
          0.865,
          0.858,
          0.868,
          0.327,
          0.851,
          0.8260000000000001,
          0.649,
          0.5670000000000001,
          0.425,
          0.8220000000000001,
          0.528,
          0.7000000000000001,
          0.523,
          0.705,
          0.552,
          0.615,
          0.675,
          0.913,
          0.868,
          0.674,
          0.872,
          0.548,
          0.844,
          0.681,
          0.317,
          0.533,
          0.396,
          0.904,
          0.907,
          0.887,
          0.864,
          0.789,
          0.539,
          0.562,
          0.78,
          0.9410000000000001,
          0.915,
          0.304,
          0.639,
          0.712,
          0.85,
          0.265,
          0.614,
          0.307,
          0.485,
          0.868,
          0.888,
          0.179,
          0.123,
          0.8260000000000001,
          0.512,
          0.41000000000000003,
          0.962,
          0.1,
          0.86,
          0.484,
          0.869,
          0.483,
          0.793,
          0.631,
          0.8240000000000001,
          0.733,
          0.71,
          0.541,
          0.512,
          0.884,
          0.562,
          0.585,
          0.491,
          0.642,
          0.836,
          0.8160000000000001,
          0.657,
          0.581,
          0.621,
          0.771,
          0.797,
          0.768,
          0.923,
          0.42,
          0.728,
          0.842,
          0.685,
          0.632,
          0.583,
          0.673,
          0.799,
          0.664,
          0.836,
          0.611,
          0.8300000000000001,
          0.554,
          0.683,
          0.914,
          0.589,
          0.354,
          0.7030000000000001,
          0.589,
          0.778,
          0.439,
          0.628,
          0.767,
          0.765,
          0.645,
          0.298,
          0.006920000000000001,
          0.854,
          0.179,
          0.537,
          0.221,
          0.787,
          0.8190000000000001,
          0.785,
          0.317,
          0.487,
          0.491,
          0.655,
          0.712,
          0.594,
          0.546,
          0.595,
          0.422,
          0.744,
          0.9440000000000001,
          0.5650000000000001,
          0.788,
          0.632,
          0.602,
          0.543,
          0.379,
          0.658,
          0.538,
          0.663,
          0.546,
          0.393,
          0.5,
          0.437,
          0.533,
          0.264,
          0.445,
          0.718,
          0.762,
          0.765,
          0.454,
          0.639,
          0.561,
          0.504,
          0.6920000000000001,
          0.339,
          0.67,
          0.339,
          0.318,
          0.47800000000000004,
          0.579,
          0.716,
          0.728,
          0.67,
          0.684,
          0.6970000000000001,
          0.35100000000000003,
          0.714,
          0.1,
          0.355,
          0.46,
          0.6950000000000001,
          0.514,
          0.907,
          0.355,
          0.895,
          0.179,
          0.7000000000000001,
          0.539,
          0.988,
          0.656,
          0.657,
          0.856,
          0.844,
          0.632,
          0.925,
          0.893,
          0.639,
          0.873,
          0.485,
          0.857,
          0.666,
          0.845,
          0.739,
          0.8250000000000001,
          0.934,
          0.659,
          0.631,
          0.526,
          0.541,
          0.8200000000000001,
          0.526,
          0.663,
          0.8230000000000001,
          0.922,
          0.743,
          0.5680000000000001,
          0.454,
          0.759,
          0.438,
          0.712,
          0.81,
          0.329,
          0.58,
          0.885,
          0.792,
          0.836,
          0.45,
          0.41500000000000004,
          0.35000000000000003,
          0.854,
          0.562,
          0.849,
          0.962,
          0.962,
          0.836,
          0.604,
          0.932,
          0.8270000000000001,
          0.6000000000000001,
          0.849,
          0.34,
          0.298,
          0.904,
          0.179,
          0.618,
          0.41300000000000003,
          0.9,
          0.655,
          0.39,
          0.499,
          0.633,
          0.592,
          0.763,
          0.633,
          0.913,
          0.8200000000000001,
          0.54,
          0.6920000000000001,
          0.655,
          0.76,
          0.675,
          0.8170000000000001,
          0.907,
          0.9480000000000001,
          0.9500000000000001,
          0.686,
          0.439,
          0.9530000000000001,
          0.687,
          0.91,
          0.797,
          0.927,
          0.87,
          0.5630000000000001,
          0.7000000000000001,
          0.583,
          0.851,
          0.451,
          0.649,
          0.861,
          0.906,
          0.922,
          0.84,
          0.629,
          0.894,
          0.465,
          0.835,
          0.9460000000000001,
          0.92,
          0.9380000000000001,
          0.842,
          0.377,
          0.8140000000000001,
          0.859,
          0.923,
          0.681,
          0.885,
          0.355
         ],
         "y0": " ",
         "yaxis": "y"
        }
       ],
       "layout": {
        "boxmode": "group",
        "legend": {
         "tracegroupgap": 0
        },
        "margin": {
         "t": 60
        },
        "template": {
         "data": {
          "bar": [
           {
            "error_x": {
             "color": "#2a3f5f"
            },
            "error_y": {
             "color": "#2a3f5f"
            },
            "marker": {
             "line": {
              "color": "#E5ECF6",
              "width": 0.5
             },
             "pattern": {
              "fillmode": "overlay",
              "size": 10,
              "solidity": 0.2
             }
            },
            "type": "bar"
           }
          ],
          "barpolar": [
           {
            "marker": {
             "line": {
              "color": "#E5ECF6",
              "width": 0.5
             },
             "pattern": {
              "fillmode": "overlay",
              "size": 10,
              "solidity": 0.2
             }
            },
            "type": "barpolar"
           }
          ],
          "carpet": [
           {
            "aaxis": {
             "endlinecolor": "#2a3f5f",
             "gridcolor": "white",
             "linecolor": "white",
             "minorgridcolor": "white",
             "startlinecolor": "#2a3f5f"
            },
            "baxis": {
             "endlinecolor": "#2a3f5f",
             "gridcolor": "white",
             "linecolor": "white",
             "minorgridcolor": "white",
             "startlinecolor": "#2a3f5f"
            },
            "type": "carpet"
           }
          ],
          "choropleth": [
           {
            "colorbar": {
             "outlinewidth": 0,
             "ticks": ""
            },
            "type": "choropleth"
           }
          ],
          "contour": [
           {
            "colorbar": {
             "outlinewidth": 0,
             "ticks": ""
            },
            "colorscale": [
             [
              0,
              "#0d0887"
             ],
             [
              0.1111111111111111,
              "#46039f"
             ],
             [
              0.2222222222222222,
              "#7201a8"
             ],
             [
              0.3333333333333333,
              "#9c179e"
             ],
             [
              0.4444444444444444,
              "#bd3786"
             ],
             [
              0.5555555555555556,
              "#d8576b"
             ],
             [
              0.6666666666666666,
              "#ed7953"
             ],
             [
              0.7777777777777778,
              "#fb9f3a"
             ],
             [
              0.8888888888888888,
              "#fdca26"
             ],
             [
              1,
              "#f0f921"
             ]
            ],
            "type": "contour"
           }
          ],
          "contourcarpet": [
           {
            "colorbar": {
             "outlinewidth": 0,
             "ticks": ""
            },
            "type": "contourcarpet"
           }
          ],
          "heatmap": [
           {
            "colorbar": {
             "outlinewidth": 0,
             "ticks": ""
            },
            "colorscale": [
             [
              0,
              "#0d0887"
             ],
             [
              0.1111111111111111,
              "#46039f"
             ],
             [
              0.2222222222222222,
              "#7201a8"
             ],
             [
              0.3333333333333333,
              "#9c179e"
             ],
             [
              0.4444444444444444,
              "#bd3786"
             ],
             [
              0.5555555555555556,
              "#d8576b"
             ],
             [
              0.6666666666666666,
              "#ed7953"
             ],
             [
              0.7777777777777778,
              "#fb9f3a"
             ],
             [
              0.8888888888888888,
              "#fdca26"
             ],
             [
              1,
              "#f0f921"
             ]
            ],
            "type": "heatmap"
           }
          ],
          "heatmapgl": [
           {
            "colorbar": {
             "outlinewidth": 0,
             "ticks": ""
            },
            "colorscale": [
             [
              0,
              "#0d0887"
             ],
             [
              0.1111111111111111,
              "#46039f"
             ],
             [
              0.2222222222222222,
              "#7201a8"
             ],
             [
              0.3333333333333333,
              "#9c179e"
             ],
             [
              0.4444444444444444,
              "#bd3786"
             ],
             [
              0.5555555555555556,
              "#d8576b"
             ],
             [
              0.6666666666666666,
              "#ed7953"
             ],
             [
              0.7777777777777778,
              "#fb9f3a"
             ],
             [
              0.8888888888888888,
              "#fdca26"
             ],
             [
              1,
              "#f0f921"
             ]
            ],
            "type": "heatmapgl"
           }
          ],
          "histogram": [
           {
            "marker": {
             "pattern": {
              "fillmode": "overlay",
              "size": 10,
              "solidity": 0.2
             }
            },
            "type": "histogram"
           }
          ],
          "histogram2d": [
           {
            "colorbar": {
             "outlinewidth": 0,
             "ticks": ""
            },
            "colorscale": [
             [
              0,
              "#0d0887"
             ],
             [
              0.1111111111111111,
              "#46039f"
             ],
             [
              0.2222222222222222,
              "#7201a8"
             ],
             [
              0.3333333333333333,
              "#9c179e"
             ],
             [
              0.4444444444444444,
              "#bd3786"
             ],
             [
              0.5555555555555556,
              "#d8576b"
             ],
             [
              0.6666666666666666,
              "#ed7953"
             ],
             [
              0.7777777777777778,
              "#fb9f3a"
             ],
             [
              0.8888888888888888,
              "#fdca26"
             ],
             [
              1,
              "#f0f921"
             ]
            ],
            "type": "histogram2d"
           }
          ],
          "histogram2dcontour": [
           {
            "colorbar": {
             "outlinewidth": 0,
             "ticks": ""
            },
            "colorscale": [
             [
              0,
              "#0d0887"
             ],
             [
              0.1111111111111111,
              "#46039f"
             ],
             [
              0.2222222222222222,
              "#7201a8"
             ],
             [
              0.3333333333333333,
              "#9c179e"
             ],
             [
              0.4444444444444444,
              "#bd3786"
             ],
             [
              0.5555555555555556,
              "#d8576b"
             ],
             [
              0.6666666666666666,
              "#ed7953"
             ],
             [
              0.7777777777777778,
              "#fb9f3a"
             ],
             [
              0.8888888888888888,
              "#fdca26"
             ],
             [
              1,
              "#f0f921"
             ]
            ],
            "type": "histogram2dcontour"
           }
          ],
          "mesh3d": [
           {
            "colorbar": {
             "outlinewidth": 0,
             "ticks": ""
            },
            "type": "mesh3d"
           }
          ],
          "parcoords": [
           {
            "line": {
             "colorbar": {
              "outlinewidth": 0,
              "ticks": ""
             }
            },
            "type": "parcoords"
           }
          ],
          "pie": [
           {
            "automargin": true,
            "type": "pie"
           }
          ],
          "scatter": [
           {
            "fillpattern": {
             "fillmode": "overlay",
             "size": 10,
             "solidity": 0.2
            },
            "type": "scatter"
           }
          ],
          "scatter3d": [
           {
            "line": {
             "colorbar": {
              "outlinewidth": 0,
              "ticks": ""
             }
            },
            "marker": {
             "colorbar": {
              "outlinewidth": 0,
              "ticks": ""
             }
            },
            "type": "scatter3d"
           }
          ],
          "scattercarpet": [
           {
            "marker": {
             "colorbar": {
              "outlinewidth": 0,
              "ticks": ""
             }
            },
            "type": "scattercarpet"
           }
          ],
          "scattergeo": [
           {
            "marker": {
             "colorbar": {
              "outlinewidth": 0,
              "ticks": ""
             }
            },
            "type": "scattergeo"
           }
          ],
          "scattergl": [
           {
            "marker": {
             "colorbar": {
              "outlinewidth": 0,
              "ticks": ""
             }
            },
            "type": "scattergl"
           }
          ],
          "scattermapbox": [
           {
            "marker": {
             "colorbar": {
              "outlinewidth": 0,
              "ticks": ""
             }
            },
            "type": "scattermapbox"
           }
          ],
          "scatterpolar": [
           {
            "marker": {
             "colorbar": {
              "outlinewidth": 0,
              "ticks": ""
             }
            },
            "type": "scatterpolar"
           }
          ],
          "scatterpolargl": [
           {
            "marker": {
             "colorbar": {
              "outlinewidth": 0,
              "ticks": ""
             }
            },
            "type": "scatterpolargl"
           }
          ],
          "scatterternary": [
           {
            "marker": {
             "colorbar": {
              "outlinewidth": 0,
              "ticks": ""
             }
            },
            "type": "scatterternary"
           }
          ],
          "surface": [
           {
            "colorbar": {
             "outlinewidth": 0,
             "ticks": ""
            },
            "colorscale": [
             [
              0,
              "#0d0887"
             ],
             [
              0.1111111111111111,
              "#46039f"
             ],
             [
              0.2222222222222222,
              "#7201a8"
             ],
             [
              0.3333333333333333,
              "#9c179e"
             ],
             [
              0.4444444444444444,
              "#bd3786"
             ],
             [
              0.5555555555555556,
              "#d8576b"
             ],
             [
              0.6666666666666666,
              "#ed7953"
             ],
             [
              0.7777777777777778,
              "#fb9f3a"
             ],
             [
              0.8888888888888888,
              "#fdca26"
             ],
             [
              1,
              "#f0f921"
             ]
            ],
            "type": "surface"
           }
          ],
          "table": [
           {
            "cells": {
             "fill": {
              "color": "#EBF0F8"
             },
             "line": {
              "color": "white"
             }
            },
            "header": {
             "fill": {
              "color": "#C8D4E3"
             },
             "line": {
              "color": "white"
             }
            },
            "type": "table"
           }
          ]
         },
         "layout": {
          "annotationdefaults": {
           "arrowcolor": "#2a3f5f",
           "arrowhead": 0,
           "arrowwidth": 1
          },
          "autotypenumbers": "strict",
          "coloraxis": {
           "colorbar": {
            "outlinewidth": 0,
            "ticks": ""
           }
          },
          "colorscale": {
           "diverging": [
            [
             0,
             "#8e0152"
            ],
            [
             0.1,
             "#c51b7d"
            ],
            [
             0.2,
             "#de77ae"
            ],
            [
             0.3,
             "#f1b6da"
            ],
            [
             0.4,
             "#fde0ef"
            ],
            [
             0.5,
             "#f7f7f7"
            ],
            [
             0.6,
             "#e6f5d0"
            ],
            [
             0.7,
             "#b8e186"
            ],
            [
             0.8,
             "#7fbc41"
            ],
            [
             0.9,
             "#4d9221"
            ],
            [
             1,
             "#276419"
            ]
           ],
           "sequential": [
            [
             0,
             "#0d0887"
            ],
            [
             0.1111111111111111,
             "#46039f"
            ],
            [
             0.2222222222222222,
             "#7201a8"
            ],
            [
             0.3333333333333333,
             "#9c179e"
            ],
            [
             0.4444444444444444,
             "#bd3786"
            ],
            [
             0.5555555555555556,
             "#d8576b"
            ],
            [
             0.6666666666666666,
             "#ed7953"
            ],
            [
             0.7777777777777778,
             "#fb9f3a"
            ],
            [
             0.8888888888888888,
             "#fdca26"
            ],
            [
             1,
             "#f0f921"
            ]
           ],
           "sequentialminus": [
            [
             0,
             "#0d0887"
            ],
            [
             0.1111111111111111,
             "#46039f"
            ],
            [
             0.2222222222222222,
             "#7201a8"
            ],
            [
             0.3333333333333333,
             "#9c179e"
            ],
            [
             0.4444444444444444,
             "#bd3786"
            ],
            [
             0.5555555555555556,
             "#d8576b"
            ],
            [
             0.6666666666666666,
             "#ed7953"
            ],
            [
             0.7777777777777778,
             "#fb9f3a"
            ],
            [
             0.8888888888888888,
             "#fdca26"
            ],
            [
             1,
             "#f0f921"
            ]
           ]
          },
          "colorway": [
           "#636efa",
           "#EF553B",
           "#00cc96",
           "#ab63fa",
           "#FFA15A",
           "#19d3f3",
           "#FF6692",
           "#B6E880",
           "#FF97FF",
           "#FECB52"
          ],
          "font": {
           "color": "#2a3f5f"
          },
          "geo": {
           "bgcolor": "white",
           "lakecolor": "white",
           "landcolor": "#E5ECF6",
           "showlakes": true,
           "showland": true,
           "subunitcolor": "white"
          },
          "hoverlabel": {
           "align": "left"
          },
          "hovermode": "closest",
          "mapbox": {
           "style": "light"
          },
          "paper_bgcolor": "white",
          "plot_bgcolor": "#E5ECF6",
          "polar": {
           "angularaxis": {
            "gridcolor": "white",
            "linecolor": "white",
            "ticks": ""
           },
           "bgcolor": "#E5ECF6",
           "radialaxis": {
            "gridcolor": "white",
            "linecolor": "white",
            "ticks": ""
           }
          },
          "scene": {
           "xaxis": {
            "backgroundcolor": "#E5ECF6",
            "gridcolor": "white",
            "gridwidth": 2,
            "linecolor": "white",
            "showbackground": true,
            "ticks": "",
            "zerolinecolor": "white"
           },
           "yaxis": {
            "backgroundcolor": "#E5ECF6",
            "gridcolor": "white",
            "gridwidth": 2,
            "linecolor": "white",
            "showbackground": true,
            "ticks": "",
            "zerolinecolor": "white"
           },
           "zaxis": {
            "backgroundcolor": "#E5ECF6",
            "gridcolor": "white",
            "gridwidth": 2,
            "linecolor": "white",
            "showbackground": true,
            "ticks": "",
            "zerolinecolor": "white"
           }
          },
          "shapedefaults": {
           "line": {
            "color": "#2a3f5f"
           }
          },
          "ternary": {
           "aaxis": {
            "gridcolor": "white",
            "linecolor": "white",
            "ticks": ""
           },
           "baxis": {
            "gridcolor": "white",
            "linecolor": "white",
            "ticks": ""
           },
           "bgcolor": "#E5ECF6",
           "caxis": {
            "gridcolor": "white",
            "linecolor": "white",
            "ticks": ""
           }
          },
          "title": {
           "x": 0.05
          },
          "xaxis": {
           "automargin": true,
           "gridcolor": "white",
           "linecolor": "white",
           "ticks": "",
           "title": {
            "standoff": 15
           },
           "zerolinecolor": "white",
           "zerolinewidth": 2
          },
          "yaxis": {
           "automargin": true,
           "gridcolor": "white",
           "linecolor": "white",
           "ticks": "",
           "title": {
            "standoff": 15
           },
           "zerolinecolor": "white",
           "zerolinewidth": 2
          }
         }
        },
        "xaxis": {
         "anchor": "y",
         "domain": [
          0,
          1
         ],
         "title": {
          "text": "class"
         }
        },
        "yaxis": {
         "anchor": "x",
         "domain": [
          0,
          1
         ],
         "title": {
          "text": "energy"
         }
        }
       }
      }
     },
     "metadata": {},
     "output_type": "display_data"
    }
   ],
   "source": [
    "print(\"Energy field\")\n",
    "\n",
    "fig = px.box(df, x=\"class\", y=\"energy\")\n",
    "fig.show()"
   ]
  },
  {
   "cell_type": "code",
   "execution_count": 18,
   "metadata": {},
   "outputs": [
    {
     "name": "stdout",
     "output_type": "stream",
     "text": [
      "Tempo field\n"
     ]
    },
    {
     "data": {
      "application/vnd.plotly.v1+json": {
       "config": {
        "plotlyServerURL": "https://plot.ly"
       },
       "data": [
        {
         "alignmentgroup": "True",
         "hovertemplate": "class=%{x}<br>tempo=%{y}<extra></extra>",
         "legendgroup": "",
         "marker": {
          "color": "#636efa"
         },
         "name": "",
         "notched": false,
         "offsetgroup": "",
         "orientation": "v",
         "showlegend": false,
         "type": "box",
         "x": [
          "intj",
          "intj",
          "intj",
          "intj",
          "intj",
          "intj",
          "intj",
          "intj",
          "intj",
          "intj",
          "intj",
          "intj",
          "intj",
          "intj",
          "intj",
          "intj",
          "intj",
          "intj",
          "intj",
          "intj",
          "intj",
          "intj",
          "intj",
          "intj",
          "intj",
          "intj",
          "intj",
          "intj",
          "intj",
          "intj",
          "intj",
          "intj",
          "intj",
          "intj",
          "intj",
          "intj",
          "intj",
          "intj",
          "intj",
          "intj",
          "intj",
          "intj",
          "intp",
          "intp",
          "intp",
          "intp",
          "intp",
          "intp",
          "intp",
          "intp",
          "intp",
          "intp",
          "intp",
          "intp",
          "intp",
          "intp",
          "intp",
          "intp",
          "intp",
          "intp",
          "intp",
          "intp",
          "intp",
          "intp",
          "intp",
          "intp",
          "intp",
          "intp",
          "intp",
          "intp",
          "intp",
          "intp",
          "intp",
          "intp",
          "intp",
          "intp",
          "intp",
          "intp",
          "intp",
          "intp",
          "intp",
          "intp",
          "infj",
          "infj",
          "infj",
          "infj",
          "infj",
          "infj",
          "infj",
          "infj",
          "infj",
          "infj",
          "infj",
          "infj",
          "infj",
          "infj",
          "infj",
          "infj",
          "infj",
          "infj",
          "infj",
          "infj",
          "infj",
          "infj",
          "infj",
          "infj",
          "infj",
          "infj",
          "infj",
          "infj",
          "infj",
          "infj",
          "infj",
          "infj",
          "infj",
          "infj",
          "infj",
          "infj",
          "infj",
          "infj",
          "infj",
          "infj",
          "infj",
          "infp",
          "infp",
          "infp",
          "infp",
          "infp",
          "infp",
          "infp",
          "infp",
          "infp",
          "infp",
          "infp",
          "infp",
          "infp",
          "infp",
          "infp",
          "infp",
          "infp",
          "infp",
          "infp",
          "infp",
          "infp",
          "infp",
          "infp",
          "infp",
          "infp",
          "infp",
          "infp",
          "infp",
          "infp",
          "infp",
          "infp",
          "infp",
          "infp",
          "infp",
          "infp",
          "infp",
          "infp",
          "infp",
          "infp",
          "infp",
          "infp",
          "infp",
          "infp",
          "infp",
          "infp",
          "infp",
          "istj",
          "istj",
          "istj",
          "istj",
          "istj",
          "istj",
          "istj",
          "istj",
          "istj",
          "istj",
          "istj",
          "istj",
          "istj",
          "istj",
          "istj",
          "istj",
          "istj",
          "istj",
          "istj",
          "istj",
          "istj",
          "istj",
          "istj",
          "istj",
          "istj",
          "istj",
          "istj",
          "istj",
          "istj",
          "istj",
          "istj",
          "istj",
          "istj",
          "istj",
          "istj",
          "istj",
          "istj",
          "istj",
          "istj",
          "istj",
          "istj",
          "istj",
          "istj",
          "istj",
          "istj",
          "istj",
          "istp",
          "istp",
          "istp",
          "istp",
          "istp",
          "istp",
          "istp",
          "istp",
          "istp",
          "istp",
          "istp",
          "istp",
          "istp",
          "istp",
          "istp",
          "istp",
          "istp",
          "istp",
          "istp",
          "istp",
          "istp",
          "istp",
          "istp",
          "istp",
          "istp",
          "istp",
          "istp",
          "istp",
          "istp",
          "istp",
          "istp",
          "istp",
          "istp",
          "istp",
          "istp",
          "istp",
          "istp",
          "istp",
          "istp",
          "istp",
          "istp",
          "istp",
          "istp",
          "istp",
          "istp",
          "istp",
          "istp",
          "istp",
          "istp",
          "istp",
          "istp",
          "istp",
          "istp",
          "istp",
          "istp",
          "istp",
          "isfj",
          "isfj",
          "isfj",
          "isfj",
          "isfj",
          "isfj",
          "isfj",
          "isfj",
          "isfj",
          "isfj",
          "isfj",
          "isfj",
          "isfj",
          "isfj",
          "isfj",
          "isfj",
          "isfj",
          "isfj",
          "isfj",
          "isfj",
          "isfj",
          "isfj",
          "isfj",
          "isfj",
          "isfj",
          "isfj",
          "isfj",
          "isfj",
          "isfj",
          "isfj",
          "isfj",
          "isfj",
          "isfj",
          "isfj",
          "isfj",
          "isfj",
          "isfj",
          "isfj",
          "isfj",
          "isfj",
          "isfj",
          "isfj",
          "isfj",
          "isfj",
          "isfj",
          "isfj",
          "isfj",
          "isfj",
          "isfj",
          "isfj",
          "isfj",
          "isfj",
          "isfj",
          "isfj",
          "isfj",
          "isfj",
          "isfj",
          "isfj",
          "isfp",
          "isfp",
          "isfp",
          "isfp",
          "isfp",
          "isfp",
          "isfp",
          "isfp",
          "isfp",
          "isfp",
          "isfp",
          "isfp",
          "isfp",
          "isfp",
          "isfp",
          "isfp",
          "isfp",
          "isfp",
          "isfp",
          "isfp",
          "isfp",
          "isfp",
          "isfp",
          "isfp",
          "isfp",
          "isfp",
          "isfp",
          "isfp",
          "isfp",
          "isfp",
          "isfp",
          "isfp",
          "isfp",
          "isfp",
          "isfp",
          "isfp",
          "isfp",
          "isfp",
          "isfp",
          "isfp",
          "isfp",
          "isfp",
          "isfp",
          "isfp",
          "isfp",
          "isfp",
          "isfp",
          "isfp",
          "isfp",
          "isfp",
          "isfp",
          "isfp",
          "isfp",
          "isfp",
          "isfp",
          "isfp",
          "isfp",
          "isfp",
          "isfp",
          "isfp",
          "isfp",
          "isfp",
          "isfp",
          "isfp",
          "isfp",
          "isfp",
          "isfp",
          "isfp",
          "enfp",
          "enfp",
          "enfp",
          "enfp",
          "enfp",
          "enfp",
          "enfp",
          "enfp",
          "enfp",
          "enfp",
          "enfp",
          "enfp",
          "enfp",
          "enfp",
          "enfp",
          "enfp",
          "enfp",
          "enfp",
          "enfp",
          "enfp",
          "enfp",
          "enfp",
          "enfp",
          "enfp",
          "enfp",
          "enfp",
          "enfp",
          "enfp",
          "enfp",
          "enfp",
          "enfp",
          "enfp",
          "enfp",
          "enfp",
          "enfp",
          "enfp",
          "enfp",
          "enfp",
          "enfp",
          "enfp",
          "enfp",
          "enfp",
          "enfp",
          "enfp",
          "enfp",
          "enfp",
          "enfp",
          "enfp",
          "enfp",
          "enfp",
          "enfp",
          "enfp",
          "enfp",
          "enfp",
          "enfp",
          "enfp",
          "enfp",
          "enfp",
          "enfp",
          "enfp",
          "enfp",
          "enfp",
          "enfp",
          "enfp",
          "enfp",
          "enfp",
          "enfp",
          "enfp",
          "enfp",
          "enfp",
          "enfp",
          "enfp",
          "enfj",
          "enfj",
          "enfj",
          "enfj",
          "enfj",
          "enfj",
          "enfj",
          "enfj",
          "enfj",
          "enfj",
          "enfj",
          "enfj",
          "enfj",
          "enfj",
          "enfj",
          "enfj",
          "enfj",
          "enfj",
          "enfj",
          "enfj",
          "enfj",
          "enfj",
          "enfj",
          "enfj",
          "enfj",
          "enfj",
          "enfj",
          "enfj",
          "enfj",
          "enfj",
          "enfj",
          "enfj",
          "enfj",
          "enfj",
          "enfj",
          "enfj",
          "enfj",
          "enfj",
          "enfj",
          "enfj",
          "enfj",
          "enfj",
          "enfj",
          "enfj",
          "enfj",
          "enfj",
          "enfj",
          "enfj",
          "enfj",
          "enfj",
          "enfj",
          "enfj",
          "enfj",
          "enfj",
          "enfj",
          "enfj",
          "enfj",
          "enfj",
          "enfj",
          "enfj",
          "entp",
          "entp",
          "entp",
          "entp",
          "entp",
          "entp",
          "entp",
          "entp",
          "entp",
          "entp",
          "entp",
          "entp",
          "entp",
          "entp",
          "entp",
          "entp",
          "entp",
          "entp",
          "entp",
          "entp",
          "entp",
          "entp",
          "entp",
          "entp",
          "entp",
          "entp",
          "entp",
          "entp",
          "entp",
          "entp",
          "entp",
          "entp",
          "entp",
          "entp",
          "entp",
          "entp",
          "entp",
          "entp",
          "entp",
          "entp",
          "entp",
          "entp",
          "entp",
          "entp",
          "entp",
          "entp",
          "entp",
          "entp",
          "entp",
          "entp",
          "entp",
          "entp",
          "entp",
          "entp",
          "entp",
          "entp",
          "entp",
          "entp",
          "entp",
          "entp",
          "entp",
          "entp",
          "entp",
          "entp",
          "entp",
          "entp",
          "entp",
          "entp",
          "entp",
          "entj",
          "entj",
          "entj",
          "entj",
          "entj",
          "entj",
          "entj",
          "entj",
          "entj",
          "entj",
          "entj",
          "entj",
          "entj",
          "entj",
          "entj",
          "entj",
          "entj",
          "entj",
          "entj",
          "entj",
          "entj",
          "entj",
          "entj",
          "entj",
          "entj",
          "entj",
          "entj",
          "entj",
          "entj",
          "entj",
          "entj",
          "entj",
          "entj",
          "entj",
          "entj",
          "entj",
          "entj",
          "entj",
          "entj",
          "entj",
          "entj",
          "entj",
          "entj",
          "entj",
          "entj",
          "entj",
          "entj",
          "entj",
          "entj",
          "entj",
          "entj",
          "entj",
          "entj",
          "entj",
          "entj",
          "entj",
          "entj",
          "entj",
          "entj",
          "entj",
          "entj",
          "entj",
          "entj",
          "entj",
          "entj",
          "entj",
          "entj",
          "entj",
          "entj",
          "entj",
          "esfp",
          "esfp",
          "esfp",
          "esfp",
          "esfp",
          "esfp",
          "esfp",
          "esfp",
          "esfp",
          "esfp",
          "esfp",
          "esfp",
          "esfp",
          "esfp",
          "esfp",
          "esfp",
          "esfp",
          "esfp",
          "esfp",
          "esfp",
          "esfp",
          "esfp",
          "esfp",
          "esfp",
          "esfp",
          "esfp",
          "esfp",
          "esfp",
          "esfp",
          "esfp",
          "esfp",
          "esfp",
          "esfp",
          "esfp",
          "esfp",
          "esfp",
          "esfp",
          "esfp",
          "esfp",
          "esfp",
          "esfp",
          "esfp",
          "esfp",
          "esfp",
          "esfp",
          "esfp",
          "esfp",
          "esfp",
          "esfp",
          "esfp",
          "esfp",
          "esfp",
          "esfp",
          "esfp",
          "esfp",
          "esfp",
          "esfp",
          "esfp",
          "esfp",
          "esfp",
          "esfp",
          "esfj",
          "esfj",
          "esfj",
          "esfj",
          "esfj",
          "esfj",
          "esfj",
          "esfj",
          "esfj",
          "esfj",
          "esfj",
          "esfj",
          "esfj",
          "esfj",
          "esfj",
          "esfj",
          "esfj",
          "esfj",
          "esfj",
          "esfj",
          "esfj",
          "esfj",
          "esfj",
          "esfj",
          "esfj",
          "esfj",
          "esfj",
          "esfj",
          "esfj",
          "esfj",
          "esfj",
          "esfj",
          "esfj",
          "esfj",
          "esfj",
          "esfj",
          "esfj",
          "esfj",
          "esfj",
          "esfj",
          "esfj",
          "esfj",
          "esfj",
          "esfj",
          "esfj",
          "esfj",
          "esfj",
          "esfj",
          "esfj",
          "esfj",
          "esfj",
          "esfj",
          "esfj",
          "esfj",
          "esfj",
          "esfj",
          "esfj",
          "esfj",
          "estp",
          "estp",
          "estp",
          "estp",
          "estp",
          "estp",
          "estp",
          "estp",
          "estp",
          "estp",
          "estp",
          "estp",
          "estp",
          "estp",
          "estp",
          "estp",
          "estp",
          "estp",
          "estp",
          "estp",
          "estp",
          "estp",
          "estp",
          "estp",
          "estp",
          "estp",
          "estp",
          "estp",
          "estp",
          "estp",
          "estp",
          "estp",
          "estp",
          "estp",
          "estp",
          "estp",
          "estp",
          "estp",
          "estp",
          "estp",
          "estp",
          "estp",
          "estp",
          "estp",
          "estp",
          "estp",
          "estp",
          "estp",
          "estp",
          "estp",
          "estp",
          "estp",
          "estp",
          "estp",
          "estp",
          "estp",
          "estp",
          "estp",
          "estp",
          "estp",
          "estp",
          "estp",
          "estj",
          "estj",
          "estj",
          "estj",
          "estj",
          "estj",
          "estj",
          "estj",
          "estj",
          "estj",
          "estj",
          "estj",
          "estj",
          "estj",
          "estj",
          "estj",
          "estj",
          "estj",
          "estj",
          "estj",
          "estj",
          "estj",
          "estj",
          "estj",
          "estj",
          "estj",
          "estj",
          "estj",
          "estj",
          "estj",
          "estj",
          "estj",
          "estj",
          "estj",
          "estj",
          "estj",
          "estj",
          "estj",
          "estj",
          "estj",
          "estj",
          "estj",
          "estj",
          "estj",
          "estj",
          "estj",
          "estj",
          "estj",
          "estj",
          "estj",
          "estj",
          "estj",
          "estj",
          "estj",
          "estj",
          "estj"
         ],
         "x0": " ",
         "xaxis": "x",
         "y": [
          92.761,
          95.923,
          93.992,
          199.947,
          83.972,
          152.092,
          119.945,
          120.059,
          159.398,
          78.892,
          100.003,
          157.907,
          143.946,
          141.941,
          120.031,
          117.998,
          77.146,
          99.929,
          110.994,
          113.161,
          179.83,
          140.096,
          145.029,
          62.493,
          112.067,
          169.846,
          122.043,
          95.004,
          100.488,
          182.529,
          137.507,
          91.147,
          99.999,
          123.991,
          142.048,
          161.996,
          72.991,
          126.983,
          140.038,
          114.016,
          188.606,
          136.026,
          75.106,
          170.003,
          88.013,
          124.943,
          170.122,
          199.947,
          93.992,
          120.003,
          92.025,
          78.892,
          119.945,
          100.003,
          120.059,
          157.907,
          169.895,
          110.005,
          141.941,
          77.146,
          145.029,
          117.998,
          113.161,
          179.895,
          109.004,
          92.761,
          128.054,
          80.375,
          82.825,
          82.282,
          120.324,
          139.874,
          120.161,
          80.375,
          144.201,
          119.976,
          83.007,
          95.975,
          159.398,
          151.97,
          196.058,
          118.102,
          79.935,
          184.481,
          166.483,
          83.972,
          107.978,
          93.992,
          117.998,
          185.711,
          110.996,
          119.945,
          99.384,
          113.449,
          141.941,
          120.059,
          77.146,
          157.907,
          168.897,
          157.909,
          113.161,
          79.988,
          48.637,
          118.511,
          168.049,
          140.031,
          104.557,
          150.9,
          93.955,
          159.939,
          160.223,
          78.242,
          179.708,
          163.378,
          81.923,
          99.142,
          150.013,
          123.735,
          99.869,
          105.734,
          114.868,
          83.057,
          81.543,
          75.001,
          120.473,
          94.987,
          103.818,
          93.992,
          77.146,
          119.945,
          92.025,
          78.892,
          110.996,
          125.972,
          100.003,
          120.059,
          150.033,
          117.998,
          135.022,
          141.941,
          139.995,
          89.004,
          126.384,
          77.239,
          99.969,
          143.861,
          113.161,
          113.45,
          163.378,
          93.955,
          76.531,
          157.907,
          91.769,
          107.021,
          85.986,
          73.954,
          87.956,
          124.467,
          122.072,
          114.556,
          134.097,
          166.066,
          164.959,
          118.015,
          149.02,
          104.557,
          107.965,
          100.721,
          99.869,
          128.375,
          105.866,
          169.977,
          201.025,
          78.532,
          159.701,
          141.971,
          142.681,
          101.883,
          84.972,
          135.965,
          130.044,
          114.089,
          109.75,
          81.299,
          185.711,
          106.029,
          87.221,
          74.99,
          168.766,
          153.988,
          179.83,
          124.912,
          92.066,
          120.932,
          85.054,
          177.032,
          186.361,
          159.669,
          124.86,
          169.326,
          119.959,
          148.066,
          121.645,
          137.838,
          77.355,
          138.015,
          91.996,
          135.045,
          93.033,
          122.043,
          119.935,
          111.002,
          107.996,
          97.008,
          199.947,
          123.207,
          104.504,
          125.496,
          107.978,
          125.97,
          64.248,
          86.339,
          119.945,
          95.049,
          76.302,
          131.902,
          120.119,
          149.989,
          99.853,
          169.846,
          108.033,
          143.921,
          145.029,
          120.125,
          112.011,
          129.9,
          143.973,
          89.996,
          162.05,
          140.066,
          148.021,
          80.974,
          159.779,
          145.995,
          121.876,
          106.044,
          94.009,
          67.528,
          92.973,
          146.023,
          77.492,
          158.674,
          85.012,
          114.985,
          138.559,
          74.28,
          129.062,
          90.482,
          144.019,
          154.006,
          128.054,
          140.099,
          99.969,
          185.711,
          80.375,
          162.04,
          82.825,
          129.955,
          127.741,
          68.115,
          77.146,
          75.995,
          105.866,
          101.295,
          111.378,
          98.225,
          178.519,
          124.053,
          110.276,
          115.035,
          73.457,
          89.73,
          127.978,
          138.762,
          159.94,
          129.054,
          120.113,
          130.082,
          73.973,
          132.874,
          119.877,
          171.95,
          155.97,
          160.071,
          164.895,
          89.846,
          149.983,
          127.921,
          153.97,
          84.03,
          117.024,
          77.543,
          96.094,
          107.904,
          129.959,
          113.818,
          101.909,
          130.033,
          79.786,
          92.457,
          112.127,
          158.283,
          80.974,
          190.028,
          186.142,
          131.778,
          138.008,
          102.006,
          107.965,
          135.934,
          169.999,
          101.499,
          91.977,
          160.02,
          121.995,
          139.926,
          95.946,
          77.146,
          199.947,
          117.948,
          107.978,
          94.485,
          119.945,
          64.248,
          75.975,
          124.053,
          105.866,
          194.01,
          140.032,
          93.916,
          77.146,
          114.593,
          117.998,
          139.953,
          111.647,
          140.266,
          149.989,
          78.033,
          124.975,
          120.02,
          92.004,
          100.243,
          108.996,
          124.174,
          91.959,
          159.93,
          84.581,
          123.229,
          119.946,
          120.046,
          125.03,
          143.302,
          127.001,
          119.99,
          76.026,
          89.221,
          119.944,
          100.03,
          87.994,
          85.012,
          120.023,
          129.98,
          148.026,
          88.964,
          154.914,
          113.945,
          148.893,
          116.879,
          79.001,
          129.004,
          133.358,
          87.773,
          116.761,
          113.449,
          169.981,
          143.973,
          149.9,
          119.626,
          80.057,
          85.38,
          180.052,
          138.008,
          169.977,
          98.972,
          120.028,
          93.992,
          92.025,
          120.041,
          153.906,
          109.941,
          185.907,
          124.943,
          122.756,
          123.996,
          107.978,
          101.975,
          144.628,
          140.032,
          119.904,
          92.025,
          92.004,
          110.996,
          117.967,
          112.009,
          78.892,
          139.722,
          77.146,
          105.866,
          134.17,
          120.324,
          136.01,
          124.895,
          160.02,
          112.96,
          138.784,
          100.099,
          92.004,
          98.942,
          118.852,
          67.528,
          91.959,
          87.019,
          118.085,
          128.054,
          80.87,
          82.014,
          120.113,
          138.51,
          140.019,
          133.954,
          104.41,
          158.121,
          159.217,
          140.008,
          103.966,
          88.964,
          90.052,
          132.967,
          134.984,
          120.028,
          125.977,
          150.091,
          144.93,
          124.993,
          124.174,
          178.519,
          150.088,
          87.933,
          83.104,
          115.027,
          163.971,
          95.944,
          84.027,
          104.98,
          93.992,
          125.04,
          83.16,
          129.999,
          137.948,
          147.873,
          185.907,
          83.972,
          199.947,
          111.781,
          144.628,
          119.061,
          110.996,
          135.904,
          87.933,
          107.938,
          93.992,
          105.866,
          77.146,
          95.023,
          98.972,
          160.067,
          109.986,
          150.005,
          115.989,
          118.99,
          120.041,
          112.96,
          154.068,
          109.995,
          89.91,
          176.042,
          126.018,
          139.631,
          124.936,
          130.115,
          120.113,
          128.157,
          103.014,
          153.902,
          150.091,
          140.267,
          119.987,
          136.01,
          177.765,
          98.942,
          154.961,
          103.979,
          103.966,
          116.959,
          105.041,
          105.415,
          151.958,
          80.974,
          135.934,
          144.93,
          76.023,
          100.894,
          183.577,
          95.944,
          82.062,
          92.025,
          129.999,
          137.948,
          121.992,
          114.109,
          98.004,
          125.496,
          99.306,
          125.97,
          107.978,
          185.907,
          123.996,
          92.025,
          101.975,
          119.061,
          73.041,
          194.01,
          100.231,
          80.065,
          94,
          83.972,
          150.015,
          139.722,
          124.949,
          120.031,
          127.066,
          98.027,
          169.021,
          188.386,
          185.977,
          105.027,
          185.711,
          98.942,
          97.094,
          119.975,
          90.024,
          100.156,
          58.478,
          151.537,
          150.132,
          150.455,
          133.99,
          92.95,
          135.085,
          97.512,
          83.323,
          104.989,
          156.014,
          122.748,
          85.012,
          127.975,
          163.971,
          115.985,
          109.952,
          120,
          89.013,
          183.825,
          119.966,
          87.971,
          124.949,
          120.028,
          111.97,
          89.996,
          120.324,
          94.481,
          144.93,
          97.52,
          123.97,
          172.028,
          104.998,
          129.999,
          137.948,
          124.943,
          103.812,
          123.889,
          156.241,
          121.992,
          107.978,
          125.989,
          119.945,
          105.866,
          194.01,
          100.231,
          125.826,
          120.031,
          134.049,
          122.979,
          201.438,
          120.02,
          106.501,
          125.135,
          170.397,
          117.132,
          175.991,
          131.715,
          79.929,
          119.992,
          126.999,
          110.01,
          176.042,
          110.127,
          74.931,
          78.068,
          164.01,
          180.466,
          135.553,
          135.128,
          167.997,
          109.975,
          188.386,
          86.307,
          119.953,
          75.235,
          139.91,
          119.898,
          119.986,
          108.016,
          111.995,
          103.016,
          115.144,
          104.001,
          98.004,
          140.048,
          150.455,
          90.024,
          94.481,
          165.069,
          157.759,
          98.059,
          97.52,
          75.012,
          74.994,
          124.949,
          161.923,
          154.087,
          174.678,
          79.951,
          90.003,
          155.021,
          114.021,
          172.028,
          129.999,
          84.517,
          156.295,
          103.966,
          105.866,
          135.904,
          118.051,
          64.248,
          119.971,
          179.683,
          77.146,
          100.888,
          116.024,
          122.017,
          160.009,
          123.95,
          128.978,
          119.965,
          146.046,
          169.938,
          120.082,
          91.947,
          82.225,
          98.094,
          105.03,
          105.046,
          94.988,
          120.045,
          95.39,
          131.03,
          114.016,
          113.968,
          99.048,
          120.041,
          108.992,
          169.999,
          128.621,
          91.071,
          129.98,
          99.954,
          126.384,
          122.012,
          110.962,
          103.014,
          119.912,
          172.009,
          149.967,
          133.927,
          96.988,
          120.023,
          148.893,
          116.934,
          153.902,
          82.477,
          114.066,
          160.018,
          98.962,
          121.793,
          139.985,
          180.065,
          183.577,
          119.945,
          93.992,
          186.061,
          105.866,
          83.909,
          133.714,
          181.799,
          82.695,
          136.025,
          140.048,
          88.893,
          105.046,
          99.982,
          97.019,
          145.944,
          78.267,
          113.719,
          120.033,
          117.006,
          179.63,
          179.518,
          148.992,
          126.384,
          82.989,
          68.534,
          103.981,
          145.031,
          141.894,
          174.032,
          147.986,
          177.963,
          144.871,
          103.861,
          150.455,
          119.93,
          78.998,
          199.864,
          123.893,
          180.065,
          110.963,
          108.045,
          149.875,
          133.975,
          116.959,
          141.642,
          113.01,
          141.642,
          119.959,
          159.951,
          109.976,
          81.027,
          91.071,
          113.01,
          81.977,
          102.983,
          118.028,
          144.982,
          77.146,
          199.947,
          121.992,
          149.996,
          79.974,
          170.04,
          199.947,
          183.825,
          105.866,
          104.989,
          124.918,
          186.113,
          108.033,
          131.03,
          158.024,
          130.04,
          123.97,
          110.012,
          116.01,
          90.098,
          129.989,
          115.414,
          111.647,
          124.003,
          159.953,
          122.016,
          102.977,
          116.001,
          124.946,
          126.576,
          130.033,
          120.082,
          118.04,
          123.935,
          121.876,
          82.004,
          95.975,
          131.902,
          130.019,
          114.016,
          99.969,
          92.972,
          97.019,
          73.954,
          80.375,
          78.011,
          115.985,
          91.998,
          117.005,
          179.755,
          76.986,
          68.015,
          98.056,
          74.994,
          136.021,
          177.927,
          179.683,
          137.507,
          101.934,
          119.903,
          128.022,
          152.08,
          92.319,
          96.815,
          119.945,
          94.481,
          105.866,
          92.061,
          159.398,
          120.026,
          134.945,
          58.121,
          78.907,
          148.09,
          161.996,
          101.965,
          129.992,
          119.986,
          98.033,
          129.934,
          92.023,
          156.992,
          120.006,
          119.898,
          109.952,
          165.069,
          90.033,
          170.06,
          102.771,
          92.017,
          162.191,
          121.933,
          114.109,
          102.489,
          132.984,
          100.816,
          118.543,
          188.386,
          150.566,
          78.068,
          157.966,
          180.466,
          127.049,
          83,
          103.993,
          99.936,
          99.999,
          159.944,
          96.93,
          114.908,
          149.966,
          170.098,
          138.017,
          119.988,
          114.72,
          144.793,
          139.964,
          140.023,
          133.034,
          115.985,
          199.947
         ],
         "y0": " ",
         "yaxis": "y"
        }
       ],
       "layout": {
        "boxmode": "group",
        "legend": {
         "tracegroupgap": 0
        },
        "margin": {
         "t": 60
        },
        "template": {
         "data": {
          "bar": [
           {
            "error_x": {
             "color": "#2a3f5f"
            },
            "error_y": {
             "color": "#2a3f5f"
            },
            "marker": {
             "line": {
              "color": "#E5ECF6",
              "width": 0.5
             },
             "pattern": {
              "fillmode": "overlay",
              "size": 10,
              "solidity": 0.2
             }
            },
            "type": "bar"
           }
          ],
          "barpolar": [
           {
            "marker": {
             "line": {
              "color": "#E5ECF6",
              "width": 0.5
             },
             "pattern": {
              "fillmode": "overlay",
              "size": 10,
              "solidity": 0.2
             }
            },
            "type": "barpolar"
           }
          ],
          "carpet": [
           {
            "aaxis": {
             "endlinecolor": "#2a3f5f",
             "gridcolor": "white",
             "linecolor": "white",
             "minorgridcolor": "white",
             "startlinecolor": "#2a3f5f"
            },
            "baxis": {
             "endlinecolor": "#2a3f5f",
             "gridcolor": "white",
             "linecolor": "white",
             "minorgridcolor": "white",
             "startlinecolor": "#2a3f5f"
            },
            "type": "carpet"
           }
          ],
          "choropleth": [
           {
            "colorbar": {
             "outlinewidth": 0,
             "ticks": ""
            },
            "type": "choropleth"
           }
          ],
          "contour": [
           {
            "colorbar": {
             "outlinewidth": 0,
             "ticks": ""
            },
            "colorscale": [
             [
              0,
              "#0d0887"
             ],
             [
              0.1111111111111111,
              "#46039f"
             ],
             [
              0.2222222222222222,
              "#7201a8"
             ],
             [
              0.3333333333333333,
              "#9c179e"
             ],
             [
              0.4444444444444444,
              "#bd3786"
             ],
             [
              0.5555555555555556,
              "#d8576b"
             ],
             [
              0.6666666666666666,
              "#ed7953"
             ],
             [
              0.7777777777777778,
              "#fb9f3a"
             ],
             [
              0.8888888888888888,
              "#fdca26"
             ],
             [
              1,
              "#f0f921"
             ]
            ],
            "type": "contour"
           }
          ],
          "contourcarpet": [
           {
            "colorbar": {
             "outlinewidth": 0,
             "ticks": ""
            },
            "type": "contourcarpet"
           }
          ],
          "heatmap": [
           {
            "colorbar": {
             "outlinewidth": 0,
             "ticks": ""
            },
            "colorscale": [
             [
              0,
              "#0d0887"
             ],
             [
              0.1111111111111111,
              "#46039f"
             ],
             [
              0.2222222222222222,
              "#7201a8"
             ],
             [
              0.3333333333333333,
              "#9c179e"
             ],
             [
              0.4444444444444444,
              "#bd3786"
             ],
             [
              0.5555555555555556,
              "#d8576b"
             ],
             [
              0.6666666666666666,
              "#ed7953"
             ],
             [
              0.7777777777777778,
              "#fb9f3a"
             ],
             [
              0.8888888888888888,
              "#fdca26"
             ],
             [
              1,
              "#f0f921"
             ]
            ],
            "type": "heatmap"
           }
          ],
          "heatmapgl": [
           {
            "colorbar": {
             "outlinewidth": 0,
             "ticks": ""
            },
            "colorscale": [
             [
              0,
              "#0d0887"
             ],
             [
              0.1111111111111111,
              "#46039f"
             ],
             [
              0.2222222222222222,
              "#7201a8"
             ],
             [
              0.3333333333333333,
              "#9c179e"
             ],
             [
              0.4444444444444444,
              "#bd3786"
             ],
             [
              0.5555555555555556,
              "#d8576b"
             ],
             [
              0.6666666666666666,
              "#ed7953"
             ],
             [
              0.7777777777777778,
              "#fb9f3a"
             ],
             [
              0.8888888888888888,
              "#fdca26"
             ],
             [
              1,
              "#f0f921"
             ]
            ],
            "type": "heatmapgl"
           }
          ],
          "histogram": [
           {
            "marker": {
             "pattern": {
              "fillmode": "overlay",
              "size": 10,
              "solidity": 0.2
             }
            },
            "type": "histogram"
           }
          ],
          "histogram2d": [
           {
            "colorbar": {
             "outlinewidth": 0,
             "ticks": ""
            },
            "colorscale": [
             [
              0,
              "#0d0887"
             ],
             [
              0.1111111111111111,
              "#46039f"
             ],
             [
              0.2222222222222222,
              "#7201a8"
             ],
             [
              0.3333333333333333,
              "#9c179e"
             ],
             [
              0.4444444444444444,
              "#bd3786"
             ],
             [
              0.5555555555555556,
              "#d8576b"
             ],
             [
              0.6666666666666666,
              "#ed7953"
             ],
             [
              0.7777777777777778,
              "#fb9f3a"
             ],
             [
              0.8888888888888888,
              "#fdca26"
             ],
             [
              1,
              "#f0f921"
             ]
            ],
            "type": "histogram2d"
           }
          ],
          "histogram2dcontour": [
           {
            "colorbar": {
             "outlinewidth": 0,
             "ticks": ""
            },
            "colorscale": [
             [
              0,
              "#0d0887"
             ],
             [
              0.1111111111111111,
              "#46039f"
             ],
             [
              0.2222222222222222,
              "#7201a8"
             ],
             [
              0.3333333333333333,
              "#9c179e"
             ],
             [
              0.4444444444444444,
              "#bd3786"
             ],
             [
              0.5555555555555556,
              "#d8576b"
             ],
             [
              0.6666666666666666,
              "#ed7953"
             ],
             [
              0.7777777777777778,
              "#fb9f3a"
             ],
             [
              0.8888888888888888,
              "#fdca26"
             ],
             [
              1,
              "#f0f921"
             ]
            ],
            "type": "histogram2dcontour"
           }
          ],
          "mesh3d": [
           {
            "colorbar": {
             "outlinewidth": 0,
             "ticks": ""
            },
            "type": "mesh3d"
           }
          ],
          "parcoords": [
           {
            "line": {
             "colorbar": {
              "outlinewidth": 0,
              "ticks": ""
             }
            },
            "type": "parcoords"
           }
          ],
          "pie": [
           {
            "automargin": true,
            "type": "pie"
           }
          ],
          "scatter": [
           {
            "fillpattern": {
             "fillmode": "overlay",
             "size": 10,
             "solidity": 0.2
            },
            "type": "scatter"
           }
          ],
          "scatter3d": [
           {
            "line": {
             "colorbar": {
              "outlinewidth": 0,
              "ticks": ""
             }
            },
            "marker": {
             "colorbar": {
              "outlinewidth": 0,
              "ticks": ""
             }
            },
            "type": "scatter3d"
           }
          ],
          "scattercarpet": [
           {
            "marker": {
             "colorbar": {
              "outlinewidth": 0,
              "ticks": ""
             }
            },
            "type": "scattercarpet"
           }
          ],
          "scattergeo": [
           {
            "marker": {
             "colorbar": {
              "outlinewidth": 0,
              "ticks": ""
             }
            },
            "type": "scattergeo"
           }
          ],
          "scattergl": [
           {
            "marker": {
             "colorbar": {
              "outlinewidth": 0,
              "ticks": ""
             }
            },
            "type": "scattergl"
           }
          ],
          "scattermapbox": [
           {
            "marker": {
             "colorbar": {
              "outlinewidth": 0,
              "ticks": ""
             }
            },
            "type": "scattermapbox"
           }
          ],
          "scatterpolar": [
           {
            "marker": {
             "colorbar": {
              "outlinewidth": 0,
              "ticks": ""
             }
            },
            "type": "scatterpolar"
           }
          ],
          "scatterpolargl": [
           {
            "marker": {
             "colorbar": {
              "outlinewidth": 0,
              "ticks": ""
             }
            },
            "type": "scatterpolargl"
           }
          ],
          "scatterternary": [
           {
            "marker": {
             "colorbar": {
              "outlinewidth": 0,
              "ticks": ""
             }
            },
            "type": "scatterternary"
           }
          ],
          "surface": [
           {
            "colorbar": {
             "outlinewidth": 0,
             "ticks": ""
            },
            "colorscale": [
             [
              0,
              "#0d0887"
             ],
             [
              0.1111111111111111,
              "#46039f"
             ],
             [
              0.2222222222222222,
              "#7201a8"
             ],
             [
              0.3333333333333333,
              "#9c179e"
             ],
             [
              0.4444444444444444,
              "#bd3786"
             ],
             [
              0.5555555555555556,
              "#d8576b"
             ],
             [
              0.6666666666666666,
              "#ed7953"
             ],
             [
              0.7777777777777778,
              "#fb9f3a"
             ],
             [
              0.8888888888888888,
              "#fdca26"
             ],
             [
              1,
              "#f0f921"
             ]
            ],
            "type": "surface"
           }
          ],
          "table": [
           {
            "cells": {
             "fill": {
              "color": "#EBF0F8"
             },
             "line": {
              "color": "white"
             }
            },
            "header": {
             "fill": {
              "color": "#C8D4E3"
             },
             "line": {
              "color": "white"
             }
            },
            "type": "table"
           }
          ]
         },
         "layout": {
          "annotationdefaults": {
           "arrowcolor": "#2a3f5f",
           "arrowhead": 0,
           "arrowwidth": 1
          },
          "autotypenumbers": "strict",
          "coloraxis": {
           "colorbar": {
            "outlinewidth": 0,
            "ticks": ""
           }
          },
          "colorscale": {
           "diverging": [
            [
             0,
             "#8e0152"
            ],
            [
             0.1,
             "#c51b7d"
            ],
            [
             0.2,
             "#de77ae"
            ],
            [
             0.3,
             "#f1b6da"
            ],
            [
             0.4,
             "#fde0ef"
            ],
            [
             0.5,
             "#f7f7f7"
            ],
            [
             0.6,
             "#e6f5d0"
            ],
            [
             0.7,
             "#b8e186"
            ],
            [
             0.8,
             "#7fbc41"
            ],
            [
             0.9,
             "#4d9221"
            ],
            [
             1,
             "#276419"
            ]
           ],
           "sequential": [
            [
             0,
             "#0d0887"
            ],
            [
             0.1111111111111111,
             "#46039f"
            ],
            [
             0.2222222222222222,
             "#7201a8"
            ],
            [
             0.3333333333333333,
             "#9c179e"
            ],
            [
             0.4444444444444444,
             "#bd3786"
            ],
            [
             0.5555555555555556,
             "#d8576b"
            ],
            [
             0.6666666666666666,
             "#ed7953"
            ],
            [
             0.7777777777777778,
             "#fb9f3a"
            ],
            [
             0.8888888888888888,
             "#fdca26"
            ],
            [
             1,
             "#f0f921"
            ]
           ],
           "sequentialminus": [
            [
             0,
             "#0d0887"
            ],
            [
             0.1111111111111111,
             "#46039f"
            ],
            [
             0.2222222222222222,
             "#7201a8"
            ],
            [
             0.3333333333333333,
             "#9c179e"
            ],
            [
             0.4444444444444444,
             "#bd3786"
            ],
            [
             0.5555555555555556,
             "#d8576b"
            ],
            [
             0.6666666666666666,
             "#ed7953"
            ],
            [
             0.7777777777777778,
             "#fb9f3a"
            ],
            [
             0.8888888888888888,
             "#fdca26"
            ],
            [
             1,
             "#f0f921"
            ]
           ]
          },
          "colorway": [
           "#636efa",
           "#EF553B",
           "#00cc96",
           "#ab63fa",
           "#FFA15A",
           "#19d3f3",
           "#FF6692",
           "#B6E880",
           "#FF97FF",
           "#FECB52"
          ],
          "font": {
           "color": "#2a3f5f"
          },
          "geo": {
           "bgcolor": "white",
           "lakecolor": "white",
           "landcolor": "#E5ECF6",
           "showlakes": true,
           "showland": true,
           "subunitcolor": "white"
          },
          "hoverlabel": {
           "align": "left"
          },
          "hovermode": "closest",
          "mapbox": {
           "style": "light"
          },
          "paper_bgcolor": "white",
          "plot_bgcolor": "#E5ECF6",
          "polar": {
           "angularaxis": {
            "gridcolor": "white",
            "linecolor": "white",
            "ticks": ""
           },
           "bgcolor": "#E5ECF6",
           "radialaxis": {
            "gridcolor": "white",
            "linecolor": "white",
            "ticks": ""
           }
          },
          "scene": {
           "xaxis": {
            "backgroundcolor": "#E5ECF6",
            "gridcolor": "white",
            "gridwidth": 2,
            "linecolor": "white",
            "showbackground": true,
            "ticks": "",
            "zerolinecolor": "white"
           },
           "yaxis": {
            "backgroundcolor": "#E5ECF6",
            "gridcolor": "white",
            "gridwidth": 2,
            "linecolor": "white",
            "showbackground": true,
            "ticks": "",
            "zerolinecolor": "white"
           },
           "zaxis": {
            "backgroundcolor": "#E5ECF6",
            "gridcolor": "white",
            "gridwidth": 2,
            "linecolor": "white",
            "showbackground": true,
            "ticks": "",
            "zerolinecolor": "white"
           }
          },
          "shapedefaults": {
           "line": {
            "color": "#2a3f5f"
           }
          },
          "ternary": {
           "aaxis": {
            "gridcolor": "white",
            "linecolor": "white",
            "ticks": ""
           },
           "baxis": {
            "gridcolor": "white",
            "linecolor": "white",
            "ticks": ""
           },
           "bgcolor": "#E5ECF6",
           "caxis": {
            "gridcolor": "white",
            "linecolor": "white",
            "ticks": ""
           }
          },
          "title": {
           "x": 0.05
          },
          "xaxis": {
           "automargin": true,
           "gridcolor": "white",
           "linecolor": "white",
           "ticks": "",
           "title": {
            "standoff": 15
           },
           "zerolinecolor": "white",
           "zerolinewidth": 2
          },
          "yaxis": {
           "automargin": true,
           "gridcolor": "white",
           "linecolor": "white",
           "ticks": "",
           "title": {
            "standoff": 15
           },
           "zerolinecolor": "white",
           "zerolinewidth": 2
          }
         }
        },
        "xaxis": {
         "anchor": "y",
         "domain": [
          0,
          1
         ],
         "title": {
          "text": "class"
         }
        },
        "yaxis": {
         "anchor": "x",
         "domain": [
          0,
          1
         ],
         "title": {
          "text": "tempo"
         }
        }
       }
      }
     },
     "metadata": {},
     "output_type": "display_data"
    }
   ],
   "source": [
    "print(\"Tempo field\")\n",
    "\n",
    "fig = px.box(df, x=\"class\", y=\"tempo\")\n",
    "fig.show()"
   ]
  },
  {
   "cell_type": "code",
   "execution_count": 19,
   "metadata": {},
   "outputs": [
    {
     "name": "stdout",
     "output_type": "stream",
     "text": [
      "instrumentalness field\n"
     ]
    },
    {
     "data": {
      "application/vnd.plotly.v1+json": {
       "config": {
        "plotlyServerURL": "https://plot.ly"
       },
       "data": [
        {
         "alignmentgroup": "True",
         "hovertemplate": "class=%{x}<br>instrumentalness=%{y}<extra></extra>",
         "legendgroup": "",
         "marker": {
          "color": "#636efa"
         },
         "name": "",
         "notched": false,
         "offsetgroup": "",
         "orientation": "v",
         "showlegend": false,
         "type": "box",
         "x": [
          "intj",
          "intj",
          "intj",
          "intj",
          "intj",
          "intj",
          "intj",
          "intj",
          "intj",
          "intj",
          "intj",
          "intj",
          "intj",
          "intj",
          "intj",
          "intj",
          "intj",
          "intj",
          "intj",
          "intj",
          "intj",
          "intj",
          "intj",
          "intj",
          "intj",
          "intj",
          "intj",
          "intj",
          "intj",
          "intj",
          "intj",
          "intj",
          "intj",
          "intj",
          "intj",
          "intj",
          "intj",
          "intj",
          "intj",
          "intj",
          "intj",
          "intj",
          "intp",
          "intp",
          "intp",
          "intp",
          "intp",
          "intp",
          "intp",
          "intp",
          "intp",
          "intp",
          "intp",
          "intp",
          "intp",
          "intp",
          "intp",
          "intp",
          "intp",
          "intp",
          "intp",
          "intp",
          "intp",
          "intp",
          "intp",
          "intp",
          "intp",
          "intp",
          "intp",
          "intp",
          "intp",
          "intp",
          "intp",
          "intp",
          "intp",
          "intp",
          "intp",
          "intp",
          "intp",
          "intp",
          "intp",
          "intp",
          "infj",
          "infj",
          "infj",
          "infj",
          "infj",
          "infj",
          "infj",
          "infj",
          "infj",
          "infj",
          "infj",
          "infj",
          "infj",
          "infj",
          "infj",
          "infj",
          "infj",
          "infj",
          "infj",
          "infj",
          "infj",
          "infj",
          "infj",
          "infj",
          "infj",
          "infj",
          "infj",
          "infj",
          "infj",
          "infj",
          "infj",
          "infj",
          "infj",
          "infj",
          "infj",
          "infj",
          "infj",
          "infj",
          "infj",
          "infj",
          "infj",
          "infp",
          "infp",
          "infp",
          "infp",
          "infp",
          "infp",
          "infp",
          "infp",
          "infp",
          "infp",
          "infp",
          "infp",
          "infp",
          "infp",
          "infp",
          "infp",
          "infp",
          "infp",
          "infp",
          "infp",
          "infp",
          "infp",
          "infp",
          "infp",
          "infp",
          "infp",
          "infp",
          "infp",
          "infp",
          "infp",
          "infp",
          "infp",
          "infp",
          "infp",
          "infp",
          "infp",
          "infp",
          "infp",
          "infp",
          "infp",
          "infp",
          "infp",
          "infp",
          "infp",
          "infp",
          "infp",
          "istj",
          "istj",
          "istj",
          "istj",
          "istj",
          "istj",
          "istj",
          "istj",
          "istj",
          "istj",
          "istj",
          "istj",
          "istj",
          "istj",
          "istj",
          "istj",
          "istj",
          "istj",
          "istj",
          "istj",
          "istj",
          "istj",
          "istj",
          "istj",
          "istj",
          "istj",
          "istj",
          "istj",
          "istj",
          "istj",
          "istj",
          "istj",
          "istj",
          "istj",
          "istj",
          "istj",
          "istj",
          "istj",
          "istj",
          "istj",
          "istj",
          "istj",
          "istj",
          "istj",
          "istj",
          "istj",
          "istp",
          "istp",
          "istp",
          "istp",
          "istp",
          "istp",
          "istp",
          "istp",
          "istp",
          "istp",
          "istp",
          "istp",
          "istp",
          "istp",
          "istp",
          "istp",
          "istp",
          "istp",
          "istp",
          "istp",
          "istp",
          "istp",
          "istp",
          "istp",
          "istp",
          "istp",
          "istp",
          "istp",
          "istp",
          "istp",
          "istp",
          "istp",
          "istp",
          "istp",
          "istp",
          "istp",
          "istp",
          "istp",
          "istp",
          "istp",
          "istp",
          "istp",
          "istp",
          "istp",
          "istp",
          "istp",
          "istp",
          "istp",
          "istp",
          "istp",
          "istp",
          "istp",
          "istp",
          "istp",
          "istp",
          "istp",
          "isfj",
          "isfj",
          "isfj",
          "isfj",
          "isfj",
          "isfj",
          "isfj",
          "isfj",
          "isfj",
          "isfj",
          "isfj",
          "isfj",
          "isfj",
          "isfj",
          "isfj",
          "isfj",
          "isfj",
          "isfj",
          "isfj",
          "isfj",
          "isfj",
          "isfj",
          "isfj",
          "isfj",
          "isfj",
          "isfj",
          "isfj",
          "isfj",
          "isfj",
          "isfj",
          "isfj",
          "isfj",
          "isfj",
          "isfj",
          "isfj",
          "isfj",
          "isfj",
          "isfj",
          "isfj",
          "isfj",
          "isfj",
          "isfj",
          "isfj",
          "isfj",
          "isfj",
          "isfj",
          "isfj",
          "isfj",
          "isfj",
          "isfj",
          "isfj",
          "isfj",
          "isfj",
          "isfj",
          "isfj",
          "isfj",
          "isfj",
          "isfj",
          "isfp",
          "isfp",
          "isfp",
          "isfp",
          "isfp",
          "isfp",
          "isfp",
          "isfp",
          "isfp",
          "isfp",
          "isfp",
          "isfp",
          "isfp",
          "isfp",
          "isfp",
          "isfp",
          "isfp",
          "isfp",
          "isfp",
          "isfp",
          "isfp",
          "isfp",
          "isfp",
          "isfp",
          "isfp",
          "isfp",
          "isfp",
          "isfp",
          "isfp",
          "isfp",
          "isfp",
          "isfp",
          "isfp",
          "isfp",
          "isfp",
          "isfp",
          "isfp",
          "isfp",
          "isfp",
          "isfp",
          "isfp",
          "isfp",
          "isfp",
          "isfp",
          "isfp",
          "isfp",
          "isfp",
          "isfp",
          "isfp",
          "isfp",
          "isfp",
          "isfp",
          "isfp",
          "isfp",
          "isfp",
          "isfp",
          "isfp",
          "isfp",
          "isfp",
          "isfp",
          "isfp",
          "isfp",
          "isfp",
          "isfp",
          "isfp",
          "isfp",
          "isfp",
          "isfp",
          "enfp",
          "enfp",
          "enfp",
          "enfp",
          "enfp",
          "enfp",
          "enfp",
          "enfp",
          "enfp",
          "enfp",
          "enfp",
          "enfp",
          "enfp",
          "enfp",
          "enfp",
          "enfp",
          "enfp",
          "enfp",
          "enfp",
          "enfp",
          "enfp",
          "enfp",
          "enfp",
          "enfp",
          "enfp",
          "enfp",
          "enfp",
          "enfp",
          "enfp",
          "enfp",
          "enfp",
          "enfp",
          "enfp",
          "enfp",
          "enfp",
          "enfp",
          "enfp",
          "enfp",
          "enfp",
          "enfp",
          "enfp",
          "enfp",
          "enfp",
          "enfp",
          "enfp",
          "enfp",
          "enfp",
          "enfp",
          "enfp",
          "enfp",
          "enfp",
          "enfp",
          "enfp",
          "enfp",
          "enfp",
          "enfp",
          "enfp",
          "enfp",
          "enfp",
          "enfp",
          "enfp",
          "enfp",
          "enfp",
          "enfp",
          "enfp",
          "enfp",
          "enfp",
          "enfp",
          "enfp",
          "enfp",
          "enfp",
          "enfp",
          "enfj",
          "enfj",
          "enfj",
          "enfj",
          "enfj",
          "enfj",
          "enfj",
          "enfj",
          "enfj",
          "enfj",
          "enfj",
          "enfj",
          "enfj",
          "enfj",
          "enfj",
          "enfj",
          "enfj",
          "enfj",
          "enfj",
          "enfj",
          "enfj",
          "enfj",
          "enfj",
          "enfj",
          "enfj",
          "enfj",
          "enfj",
          "enfj",
          "enfj",
          "enfj",
          "enfj",
          "enfj",
          "enfj",
          "enfj",
          "enfj",
          "enfj",
          "enfj",
          "enfj",
          "enfj",
          "enfj",
          "enfj",
          "enfj",
          "enfj",
          "enfj",
          "enfj",
          "enfj",
          "enfj",
          "enfj",
          "enfj",
          "enfj",
          "enfj",
          "enfj",
          "enfj",
          "enfj",
          "enfj",
          "enfj",
          "enfj",
          "enfj",
          "enfj",
          "enfj",
          "entp",
          "entp",
          "entp",
          "entp",
          "entp",
          "entp",
          "entp",
          "entp",
          "entp",
          "entp",
          "entp",
          "entp",
          "entp",
          "entp",
          "entp",
          "entp",
          "entp",
          "entp",
          "entp",
          "entp",
          "entp",
          "entp",
          "entp",
          "entp",
          "entp",
          "entp",
          "entp",
          "entp",
          "entp",
          "entp",
          "entp",
          "entp",
          "entp",
          "entp",
          "entp",
          "entp",
          "entp",
          "entp",
          "entp",
          "entp",
          "entp",
          "entp",
          "entp",
          "entp",
          "entp",
          "entp",
          "entp",
          "entp",
          "entp",
          "entp",
          "entp",
          "entp",
          "entp",
          "entp",
          "entp",
          "entp",
          "entp",
          "entp",
          "entp",
          "entp",
          "entp",
          "entp",
          "entp",
          "entp",
          "entp",
          "entp",
          "entp",
          "entp",
          "entp",
          "entj",
          "entj",
          "entj",
          "entj",
          "entj",
          "entj",
          "entj",
          "entj",
          "entj",
          "entj",
          "entj",
          "entj",
          "entj",
          "entj",
          "entj",
          "entj",
          "entj",
          "entj",
          "entj",
          "entj",
          "entj",
          "entj",
          "entj",
          "entj",
          "entj",
          "entj",
          "entj",
          "entj",
          "entj",
          "entj",
          "entj",
          "entj",
          "entj",
          "entj",
          "entj",
          "entj",
          "entj",
          "entj",
          "entj",
          "entj",
          "entj",
          "entj",
          "entj",
          "entj",
          "entj",
          "entj",
          "entj",
          "entj",
          "entj",
          "entj",
          "entj",
          "entj",
          "entj",
          "entj",
          "entj",
          "entj",
          "entj",
          "entj",
          "entj",
          "entj",
          "entj",
          "entj",
          "entj",
          "entj",
          "entj",
          "entj",
          "entj",
          "entj",
          "entj",
          "entj",
          "esfp",
          "esfp",
          "esfp",
          "esfp",
          "esfp",
          "esfp",
          "esfp",
          "esfp",
          "esfp",
          "esfp",
          "esfp",
          "esfp",
          "esfp",
          "esfp",
          "esfp",
          "esfp",
          "esfp",
          "esfp",
          "esfp",
          "esfp",
          "esfp",
          "esfp",
          "esfp",
          "esfp",
          "esfp",
          "esfp",
          "esfp",
          "esfp",
          "esfp",
          "esfp",
          "esfp",
          "esfp",
          "esfp",
          "esfp",
          "esfp",
          "esfp",
          "esfp",
          "esfp",
          "esfp",
          "esfp",
          "esfp",
          "esfp",
          "esfp",
          "esfp",
          "esfp",
          "esfp",
          "esfp",
          "esfp",
          "esfp",
          "esfp",
          "esfp",
          "esfp",
          "esfp",
          "esfp",
          "esfp",
          "esfp",
          "esfp",
          "esfp",
          "esfp",
          "esfp",
          "esfp",
          "esfj",
          "esfj",
          "esfj",
          "esfj",
          "esfj",
          "esfj",
          "esfj",
          "esfj",
          "esfj",
          "esfj",
          "esfj",
          "esfj",
          "esfj",
          "esfj",
          "esfj",
          "esfj",
          "esfj",
          "esfj",
          "esfj",
          "esfj",
          "esfj",
          "esfj",
          "esfj",
          "esfj",
          "esfj",
          "esfj",
          "esfj",
          "esfj",
          "esfj",
          "esfj",
          "esfj",
          "esfj",
          "esfj",
          "esfj",
          "esfj",
          "esfj",
          "esfj",
          "esfj",
          "esfj",
          "esfj",
          "esfj",
          "esfj",
          "esfj",
          "esfj",
          "esfj",
          "esfj",
          "esfj",
          "esfj",
          "esfj",
          "esfj",
          "esfj",
          "esfj",
          "esfj",
          "esfj",
          "esfj",
          "esfj",
          "esfj",
          "esfj",
          "estp",
          "estp",
          "estp",
          "estp",
          "estp",
          "estp",
          "estp",
          "estp",
          "estp",
          "estp",
          "estp",
          "estp",
          "estp",
          "estp",
          "estp",
          "estp",
          "estp",
          "estp",
          "estp",
          "estp",
          "estp",
          "estp",
          "estp",
          "estp",
          "estp",
          "estp",
          "estp",
          "estp",
          "estp",
          "estp",
          "estp",
          "estp",
          "estp",
          "estp",
          "estp",
          "estp",
          "estp",
          "estp",
          "estp",
          "estp",
          "estp",
          "estp",
          "estp",
          "estp",
          "estp",
          "estp",
          "estp",
          "estp",
          "estp",
          "estp",
          "estp",
          "estp",
          "estp",
          "estp",
          "estp",
          "estp",
          "estp",
          "estp",
          "estp",
          "estp",
          "estp",
          "estp",
          "estj",
          "estj",
          "estj",
          "estj",
          "estj",
          "estj",
          "estj",
          "estj",
          "estj",
          "estj",
          "estj",
          "estj",
          "estj",
          "estj",
          "estj",
          "estj",
          "estj",
          "estj",
          "estj",
          "estj",
          "estj",
          "estj",
          "estj",
          "estj",
          "estj",
          "estj",
          "estj",
          "estj",
          "estj",
          "estj",
          "estj",
          "estj",
          "estj",
          "estj",
          "estj",
          "estj",
          "estj",
          "estj",
          "estj",
          "estj",
          "estj",
          "estj",
          "estj",
          "estj",
          "estj",
          "estj",
          "estj",
          "estj",
          "estj",
          "estj",
          "estj",
          "estj",
          "estj",
          "estj",
          "estj",
          "estj"
         ],
         "x0": " ",
         "xaxis": "x",
         "y": [
          0.000687,
          0,
          0.881,
          0.000010800000000000002,
          0.00000604,
          0.112,
          0.000041200000000000005,
          0.14300000000000002,
          0.0666,
          0.0000011899999999999998,
          0.0039900000000000005,
          0.308,
          0,
          0.202,
          0.489,
          0.0714,
          0.000102,
          0.0594,
          0.000164,
          0.0006879999999999999,
          0.28300000000000003,
          0.00117,
          0.0000155,
          0.00000244,
          0,
          0.000208,
          0.0961,
          0,
          0,
          0,
          0,
          0,
          0.000009519999999999999,
          0.000013400000000000002,
          0,
          0.202,
          0.10200000000000001,
          0.00251,
          0.050100000000000006,
          0.182,
          0,
          0.0008849999999999999,
          0.00000262,
          0,
          0,
          0.35100000000000003,
          0,
          0.000010800000000000002,
          0.881,
          0,
          0.402,
          0.0000011899999999999998,
          0.000041200000000000005,
          0.0039900000000000005,
          0.14300000000000002,
          0.308,
          0.084,
          0.0009559999999999999,
          0.202,
          0.000102,
          0.0000155,
          0.0714,
          0.0006879999999999999,
          0.0284,
          0.000017100000000000002,
          0.000687,
          0.000016600000000000004,
          0.0016500000000000002,
          0.0000012499999999999999,
          0.908,
          0,
          0.00453,
          0.742,
          0.0016500000000000002,
          0.000116,
          0.014700000000000001,
          0.0234,
          0.00016199999999999998,
          0.0666,
          0.00022899999999999998,
          0.0000036699999999999996,
          0,
          0.00717,
          0.8160000000000001,
          0.776,
          0.00000604,
          0,
          0.881,
          0.0714,
          0.0008669999999999999,
          0,
          0.000041200000000000005,
          0,
          0.403,
          0.202,
          0.14300000000000002,
          0.000102,
          0.308,
          0.38,
          0.5740000000000001,
          0.0006879999999999999,
          0.8,
          0.386,
          0.761,
          0.35100000000000003,
          0.756,
          0.853,
          0.916,
          0.429,
          0.642,
          0.005070000000000001,
          0,
          0.105,
          0.281,
          0,
          0,
          0.886,
          0.873,
          0.77,
          0.931,
          0,
          0.108,
          0.00000162,
          0,
          0.0012900000000000001,
          0,
          0.00287,
          0.881,
          0.000102,
          0.000041200000000000005,
          0.402,
          0.0000011899999999999998,
          0,
          0.212,
          0.0039900000000000005,
          0.14300000000000002,
          0.00000257,
          0.0714,
          0.00016099999999999998,
          0.202,
          0.745,
          0.357,
          0.024300000000000002,
          0.000614,
          0,
          0,
          0.0006879999999999999,
          0.403,
          0.281,
          0.429,
          0.047,
          0.308,
          0.0105,
          0.0437,
          0.000014200000000000001,
          0,
          0,
          0.00447,
          0.899,
          0.0897,
          0.00010899999999999999,
          0.0407,
          0.106,
          0.0659,
          0.061700000000000005,
          0.853,
          0,
          0.063,
          0.77,
          0.0308,
          0,
          0.0000229,
          0.000249,
          0,
          0,
          0.00000496,
          0.000821,
          0.000147,
          0,
          0.465,
          0.00000105,
          0.0000783,
          0.0012200000000000002,
          0.00008180000000000001,
          0.0008669999999999999,
          0.0033100000000000004,
          0,
          0.00042699999999999997,
          0,
          0.00199,
          0.28300000000000003,
          0.6940000000000001,
          0,
          0,
          0.000748,
          0.899,
          0.242,
          0.0771,
          0.00008510000000000001,
          0,
          0.00239,
          0,
          0.00000763,
          0.00000232,
          0,
          0.00000323,
          0,
          0,
          0,
          0,
          0,
          0.00000525,
          0,
          0,
          0.000010800000000000002,
          0,
          0,
          0.000013100000000000002,
          0,
          0,
          0,
          0,
          0.000041200000000000005,
          0.00000254,
          0.803,
          0.000198,
          0,
          0.000012900000000000002,
          0,
          0.000208,
          0.00000278,
          0,
          0.0000155,
          0.00161,
          0.00008630000000000001,
          0.00124,
          0.010100000000000001,
          0,
          0.00033299999999999996,
          0,
          0,
          0.000026200000000000003,
          0,
          0,
          0,
          0,
          0.13,
          0.022,
          0.226,
          0.34500000000000003,
          0,
          0.0000928,
          0.149,
          0.00008570000000000001,
          0.00233,
          0.000066,
          0.000133,
          0,
          0,
          0.00000962,
          0.000016600000000000004,
          0.00103,
          0,
          0.0008669999999999999,
          0.0016500000000000002,
          0.0465,
          0.0000012499999999999999,
          0.0000022599999999999995,
          0,
          0.898,
          0.000102,
          0,
          0,
          0,
          0.00000196,
          0,
          0.000014,
          0.0177,
          0.00136,
          0,
          0.96,
          0.0000335,
          0.614,
          0.00000173,
          0.00005480000000000001,
          0.000168,
          0,
          0,
          0.00000579,
          0.0059900000000000005,
          0,
          0,
          0.0028,
          0.000222,
          0.000793,
          0.00000168,
          0,
          0,
          0,
          0.00000228,
          0.0048200000000000005,
          0,
          0.0000115,
          0.0000329,
          0.181,
          0,
          0.000037000000000000005,
          0.000024300000000000005,
          0.000691,
          0.0261,
          0.00124,
          0.000007499999999999999,
          0.000026200000000000003,
          0,
          0.026000000000000002,
          0.0011400000000000002,
          0.0604,
          0.0076,
          0,
          0,
          0.000736,
          0,
          0.000014700000000000002,
          0.0007949999999999999,
          0,
          0.0000014,
          0.00453,
          0.000102,
          0.000010800000000000002,
          0,
          0,
          0.5720000000000001,
          0.000041200000000000005,
          0,
          0,
          0.0177,
          0,
          0.000104,
          0,
          0.0015700000000000002,
          0.000102,
          0,
          0.0714,
          0.000052400000000000007,
          0,
          0.00007780000000000001,
          0.000012900000000000002,
          0,
          0.0449,
          0.000018,
          0.0000113,
          0.00000425,
          0.0109,
          0.15,
          0.0199,
          0.000038900000000000004,
          0.00010499999999999999,
          0.000202,
          0.0284,
          0.81,
          0.8130000000000001,
          0.0291,
          0.00011399999999999999,
          0.016900000000000002,
          0.000198,
          0.000014,
          0.00033000000000000005,
          0,
          0,
          0.149,
          0.0000232,
          0.91,
          0,
          0.00598,
          0.00000512,
          0,
          0.0000198,
          0.0067800000000000004,
          0.0012900000000000001,
          0.020900000000000002,
          0.00000222,
          0.0177,
          0.000173,
          0.403,
          0.000118,
          0.010100000000000001,
          0,
          0.000034800000000000006,
          0,
          0.00445,
          0.00000939,
          0.0604,
          0.0000229,
          0.34800000000000003,
          0,
          0.881,
          0.402,
          0.0013700000000000001,
          0,
          0.169,
          0.00134,
          0.35100000000000003,
          0.37,
          0,
          0,
          0.0000193,
          0,
          0,
          0.0007639999999999999,
          0.402,
          0.881,
          0,
          0.000177,
          0.00007230000000000001,
          0.0000011899999999999998,
          0.005940000000000001,
          0.000102,
          0,
          0,
          0,
          0,
          0,
          0.0007949999999999999,
          0,
          0.00168,
          0,
          0.0000113,
          0.0000034799999999999997,
          0,
          0.022,
          0.0199,
          0.0006100000000000001,
          0.0000366,
          0.000016600000000000004,
          0.0000067,
          0,
          0,
          0.0000179,
          0.0122,
          0.00009710000000000002,
          0.000029500000000000006,
          0,
          0.0000035,
          0.000014200000000000001,
          0,
          0.00598,
          0.0597,
          0.0604,
          0.0034700000000000004,
          0,
          0.885,
          0.000297,
          0,
          0.000007339999999999999,
          0.15,
          0.000014,
          0.000009679999999999999,
          0,
          0.000011200000000000001,
          0,
          0.0000082,
          0.0000024100000000000002,
          0.0000167,
          0.000203,
          0.881,
          0,
          0,
          0.0189,
          0.58,
          0,
          0.00134,
          0.00000604,
          0.000010800000000000002,
          0.0307,
          0,
          0.055900000000000005,
          0,
          0,
          0,
          0.0000675,
          0.881,
          0,
          0.000102,
          0.00000949,
          0.34800000000000003,
          0,
          0.000638,
          0.00000474,
          0.8220000000000001,
          0.0000692,
          0.0013700000000000001,
          0,
          0,
          0.00000567,
          0.0008129999999999999,
          0,
          0.00000157,
          0.00008750000000000001,
          0,
          0.334,
          0,
          0.00000553,
          0,
          0,
          0.000297,
          0.000057900000000000005,
          0,
          0,
          0.00000373,
          0.0000034799999999999997,
          0,
          0.0000136,
          0,
          0,
          0.0008179999999999999,
          0.17,
          0,
          0.000026200000000000003,
          0,
          0,
          0.000363,
          0.0019100000000000002,
          0.00574,
          0.0000024100000000000002,
          0.00015000000000000001,
          0.402,
          0.0189,
          0.58,
          0.000116,
          0,
          0.139,
          0.000013100000000000002,
          0,
          0,
          0,
          0.00134,
          0,
          0.402,
          0.0000193,
          0.055900000000000005,
          0.00004070000000000001,
          0.000104,
          0,
          0.00000157,
          0,
          0.00000604,
          0.000007709999999999999,
          0.005940000000000001,
          0,
          0.489,
          0.0015,
          0.000104,
          0,
          0.00965,
          0.000050100000000000005,
          0.000122,
          0.0008669999999999999,
          0.0000034799999999999997,
          0,
          0.000010300000000000001,
          0.0000358,
          0,
          0.00024000000000000003,
          0.011600000000000001,
          0,
          0.219,
          0.000021800000000000005,
          0,
          0.000338,
          0.000855,
          0.0032600000000000003,
          0.00000162,
          0,
          0,
          0.149,
          0.115,
          0.0000082,
          0.009040000000000001,
          0,
          0.00517,
          0.0969,
          0,
          0.06470000000000001,
          0.0024100000000000002,
          0,
          0,
          0.0071400000000000005,
          0,
          0,
          0,
          0,
          0.0105,
          0.000468,
          0,
          0,
          0.0189,
          0.58,
          0.35100000000000003,
          0.0745,
          0.35000000000000003,
          0.00000285,
          0.000116,
          0,
          0,
          0.000041200000000000005,
          0,
          0.000104,
          0,
          0.148,
          0.489,
          0,
          0.0000138,
          0.243,
          0.000018,
          0.0032800000000000004,
          0,
          0,
          0.0000013,
          0.0207,
          0.0076500000000000005,
          0,
          0.00000636,
          0,
          0,
          0,
          0,
          0.047900000000000005,
          0.003,
          0.188,
          0,
          0,
          0.13,
          0.134,
          0.329,
          0.00965,
          0,
          0.000018200000000000002,
          0.127,
          0,
          0,
          0.0000369,
          0.0000015399999999999999,
          0,
          0,
          0.00000148,
          0.000716,
          0.139,
          0,
          0.219,
          0.0000358,
          0,
          0,
          0.0018800000000000002,
          0,
          0.0105,
          0.0000116,
          0.00000323,
          0,
          0.000283,
          0.0012900000000000001,
          0.00004460000000000001,
          0.0000012499999999999999,
          0,
          0.214,
          0.000013400000000000002,
          0,
          0.0189,
          0.00000153,
          0.000176,
          0,
          0,
          0,
          0.000012400000000000002,
          0,
          0.000034200000000000005,
          0.00021099999999999998,
          0.000102,
          0.0000492,
          0.0000535,
          0.000022000000000000003,
          0.0011,
          0,
          0.00020899999999999998,
          0,
          0.0000012499999999999999,
          0.00000114,
          0,
          0.00000507,
          0,
          0.0000158,
          0.0020900000000000003,
          0.000012900000000000002,
          0.000039500000000000005,
          0.000513,
          0,
          0.00000362,
          0.000204,
          0.0000073899999999999995,
          0.000007,
          0.0013700000000000001,
          0,
          0.000736,
          0,
          0,
          0.91,
          0,
          0.024300000000000002,
          0.00015000000000000001,
          0.00000335,
          0,
          0,
          0,
          0.000922,
          0.00000252,
          0.000425,
          0.0000232,
          0.0000198,
          0,
          0,
          0.00005650000000000001,
          0.0000835,
          0.00000177,
          0.00194,
          0,
          0.00029499999999999996,
          0,
          0.00574,
          0.000041200000000000005,
          0.881,
          0,
          0,
          0,
          0,
          0.00000311,
          0,
          0.356,
          0,
          0,
          0.000012900000000000002,
          0.00193,
          0,
          0,
          0.0000045,
          0,
          0.00924,
          0.00017199999999999998,
          0.5650000000000001,
          0.00000168,
          0.0000184,
          0.024300000000000002,
          0.0000211,
          0.0000158,
          0,
          0.00006000000000000001,
          0.0018700000000000001,
          0,
          0,
          0,
          0.000040400000000000006,
          0.000024200000000000002,
          0.219,
          0,
          0,
          0.0000102,
          0,
          0,
          0,
          0,
          0,
          0.00007400000000000001,
          0,
          0,
          0,
          0,
          0.00239,
          0,
          0.00000582,
          0,
          0,
          0,
          0.00000293,
          0.000887,
          0.00000938,
          0,
          0.000102,
          0.000010800000000000002,
          0.000116,
          0,
          0,
          0,
          0.000010800000000000002,
          0,
          0,
          0.00000162,
          0,
          0.00007860000000000001,
          0.00000278,
          0.00000362,
          0,
          0.0014800000000000002,
          0.0244,
          0.00000362,
          0.0737,
          0,
          0.00111,
          0,
          0,
          0.07680000000000001,
          0,
          0.00000229,
          0,
          0,
          0,
          0.024200000000000003,
          0.000024300000000000005,
          0,
          0.000004759999999999999,
          0,
          0,
          0,
          0.00016199999999999998,
          0.000198,
          0,
          0.182,
          0,
          0,
          0,
          0,
          0.0016500000000000002,
          0,
          0.009040000000000001,
          0.00000179,
          0,
          0,
          0,
          0.00000458,
          0,
          0.00000323,
          0,
          0,
          0.00021099999999999998,
          0,
          0,
          0.00000678,
          0,
          0.000012900000000000002,
          0,
          0,
          0.000041200000000000005,
          0,
          0,
          0.0019,
          0.0666,
          0.00128,
          0,
          0,
          0.000022200000000000004,
          0,
          0,
          0,
          0.000042300000000000005,
          0.0000369,
          0,
          0,
          0,
          0,
          0,
          0,
          0,
          0,
          0,
          0,
          0,
          0,
          0,
          0,
          0,
          0.00000435,
          0.009130000000000001,
          0.00000147,
          0,
          0.00965,
          0,
          0.003,
          0,
          0,
          0,
          0,
          0.000286,
          0.00000135,
          0.000009519999999999999,
          0,
          0,
          0.019,
          0.00512,
          0,
          0.00000535,
          0,
          0,
          0,
          0.0007400000000000001,
          0.00838,
          0,
          0.009040000000000001,
          0.000010800000000000002
         ],
         "y0": " ",
         "yaxis": "y"
        }
       ],
       "layout": {
        "boxmode": "group",
        "legend": {
         "tracegroupgap": 0
        },
        "margin": {
         "t": 60
        },
        "template": {
         "data": {
          "bar": [
           {
            "error_x": {
             "color": "#2a3f5f"
            },
            "error_y": {
             "color": "#2a3f5f"
            },
            "marker": {
             "line": {
              "color": "#E5ECF6",
              "width": 0.5
             },
             "pattern": {
              "fillmode": "overlay",
              "size": 10,
              "solidity": 0.2
             }
            },
            "type": "bar"
           }
          ],
          "barpolar": [
           {
            "marker": {
             "line": {
              "color": "#E5ECF6",
              "width": 0.5
             },
             "pattern": {
              "fillmode": "overlay",
              "size": 10,
              "solidity": 0.2
             }
            },
            "type": "barpolar"
           }
          ],
          "carpet": [
           {
            "aaxis": {
             "endlinecolor": "#2a3f5f",
             "gridcolor": "white",
             "linecolor": "white",
             "minorgridcolor": "white",
             "startlinecolor": "#2a3f5f"
            },
            "baxis": {
             "endlinecolor": "#2a3f5f",
             "gridcolor": "white",
             "linecolor": "white",
             "minorgridcolor": "white",
             "startlinecolor": "#2a3f5f"
            },
            "type": "carpet"
           }
          ],
          "choropleth": [
           {
            "colorbar": {
             "outlinewidth": 0,
             "ticks": ""
            },
            "type": "choropleth"
           }
          ],
          "contour": [
           {
            "colorbar": {
             "outlinewidth": 0,
             "ticks": ""
            },
            "colorscale": [
             [
              0,
              "#0d0887"
             ],
             [
              0.1111111111111111,
              "#46039f"
             ],
             [
              0.2222222222222222,
              "#7201a8"
             ],
             [
              0.3333333333333333,
              "#9c179e"
             ],
             [
              0.4444444444444444,
              "#bd3786"
             ],
             [
              0.5555555555555556,
              "#d8576b"
             ],
             [
              0.6666666666666666,
              "#ed7953"
             ],
             [
              0.7777777777777778,
              "#fb9f3a"
             ],
             [
              0.8888888888888888,
              "#fdca26"
             ],
             [
              1,
              "#f0f921"
             ]
            ],
            "type": "contour"
           }
          ],
          "contourcarpet": [
           {
            "colorbar": {
             "outlinewidth": 0,
             "ticks": ""
            },
            "type": "contourcarpet"
           }
          ],
          "heatmap": [
           {
            "colorbar": {
             "outlinewidth": 0,
             "ticks": ""
            },
            "colorscale": [
             [
              0,
              "#0d0887"
             ],
             [
              0.1111111111111111,
              "#46039f"
             ],
             [
              0.2222222222222222,
              "#7201a8"
             ],
             [
              0.3333333333333333,
              "#9c179e"
             ],
             [
              0.4444444444444444,
              "#bd3786"
             ],
             [
              0.5555555555555556,
              "#d8576b"
             ],
             [
              0.6666666666666666,
              "#ed7953"
             ],
             [
              0.7777777777777778,
              "#fb9f3a"
             ],
             [
              0.8888888888888888,
              "#fdca26"
             ],
             [
              1,
              "#f0f921"
             ]
            ],
            "type": "heatmap"
           }
          ],
          "heatmapgl": [
           {
            "colorbar": {
             "outlinewidth": 0,
             "ticks": ""
            },
            "colorscale": [
             [
              0,
              "#0d0887"
             ],
             [
              0.1111111111111111,
              "#46039f"
             ],
             [
              0.2222222222222222,
              "#7201a8"
             ],
             [
              0.3333333333333333,
              "#9c179e"
             ],
             [
              0.4444444444444444,
              "#bd3786"
             ],
             [
              0.5555555555555556,
              "#d8576b"
             ],
             [
              0.6666666666666666,
              "#ed7953"
             ],
             [
              0.7777777777777778,
              "#fb9f3a"
             ],
             [
              0.8888888888888888,
              "#fdca26"
             ],
             [
              1,
              "#f0f921"
             ]
            ],
            "type": "heatmapgl"
           }
          ],
          "histogram": [
           {
            "marker": {
             "pattern": {
              "fillmode": "overlay",
              "size": 10,
              "solidity": 0.2
             }
            },
            "type": "histogram"
           }
          ],
          "histogram2d": [
           {
            "colorbar": {
             "outlinewidth": 0,
             "ticks": ""
            },
            "colorscale": [
             [
              0,
              "#0d0887"
             ],
             [
              0.1111111111111111,
              "#46039f"
             ],
             [
              0.2222222222222222,
              "#7201a8"
             ],
             [
              0.3333333333333333,
              "#9c179e"
             ],
             [
              0.4444444444444444,
              "#bd3786"
             ],
             [
              0.5555555555555556,
              "#d8576b"
             ],
             [
              0.6666666666666666,
              "#ed7953"
             ],
             [
              0.7777777777777778,
              "#fb9f3a"
             ],
             [
              0.8888888888888888,
              "#fdca26"
             ],
             [
              1,
              "#f0f921"
             ]
            ],
            "type": "histogram2d"
           }
          ],
          "histogram2dcontour": [
           {
            "colorbar": {
             "outlinewidth": 0,
             "ticks": ""
            },
            "colorscale": [
             [
              0,
              "#0d0887"
             ],
             [
              0.1111111111111111,
              "#46039f"
             ],
             [
              0.2222222222222222,
              "#7201a8"
             ],
             [
              0.3333333333333333,
              "#9c179e"
             ],
             [
              0.4444444444444444,
              "#bd3786"
             ],
             [
              0.5555555555555556,
              "#d8576b"
             ],
             [
              0.6666666666666666,
              "#ed7953"
             ],
             [
              0.7777777777777778,
              "#fb9f3a"
             ],
             [
              0.8888888888888888,
              "#fdca26"
             ],
             [
              1,
              "#f0f921"
             ]
            ],
            "type": "histogram2dcontour"
           }
          ],
          "mesh3d": [
           {
            "colorbar": {
             "outlinewidth": 0,
             "ticks": ""
            },
            "type": "mesh3d"
           }
          ],
          "parcoords": [
           {
            "line": {
             "colorbar": {
              "outlinewidth": 0,
              "ticks": ""
             }
            },
            "type": "parcoords"
           }
          ],
          "pie": [
           {
            "automargin": true,
            "type": "pie"
           }
          ],
          "scatter": [
           {
            "fillpattern": {
             "fillmode": "overlay",
             "size": 10,
             "solidity": 0.2
            },
            "type": "scatter"
           }
          ],
          "scatter3d": [
           {
            "line": {
             "colorbar": {
              "outlinewidth": 0,
              "ticks": ""
             }
            },
            "marker": {
             "colorbar": {
              "outlinewidth": 0,
              "ticks": ""
             }
            },
            "type": "scatter3d"
           }
          ],
          "scattercarpet": [
           {
            "marker": {
             "colorbar": {
              "outlinewidth": 0,
              "ticks": ""
             }
            },
            "type": "scattercarpet"
           }
          ],
          "scattergeo": [
           {
            "marker": {
             "colorbar": {
              "outlinewidth": 0,
              "ticks": ""
             }
            },
            "type": "scattergeo"
           }
          ],
          "scattergl": [
           {
            "marker": {
             "colorbar": {
              "outlinewidth": 0,
              "ticks": ""
             }
            },
            "type": "scattergl"
           }
          ],
          "scattermapbox": [
           {
            "marker": {
             "colorbar": {
              "outlinewidth": 0,
              "ticks": ""
             }
            },
            "type": "scattermapbox"
           }
          ],
          "scatterpolar": [
           {
            "marker": {
             "colorbar": {
              "outlinewidth": 0,
              "ticks": ""
             }
            },
            "type": "scatterpolar"
           }
          ],
          "scatterpolargl": [
           {
            "marker": {
             "colorbar": {
              "outlinewidth": 0,
              "ticks": ""
             }
            },
            "type": "scatterpolargl"
           }
          ],
          "scatterternary": [
           {
            "marker": {
             "colorbar": {
              "outlinewidth": 0,
              "ticks": ""
             }
            },
            "type": "scatterternary"
           }
          ],
          "surface": [
           {
            "colorbar": {
             "outlinewidth": 0,
             "ticks": ""
            },
            "colorscale": [
             [
              0,
              "#0d0887"
             ],
             [
              0.1111111111111111,
              "#46039f"
             ],
             [
              0.2222222222222222,
              "#7201a8"
             ],
             [
              0.3333333333333333,
              "#9c179e"
             ],
             [
              0.4444444444444444,
              "#bd3786"
             ],
             [
              0.5555555555555556,
              "#d8576b"
             ],
             [
              0.6666666666666666,
              "#ed7953"
             ],
             [
              0.7777777777777778,
              "#fb9f3a"
             ],
             [
              0.8888888888888888,
              "#fdca26"
             ],
             [
              1,
              "#f0f921"
             ]
            ],
            "type": "surface"
           }
          ],
          "table": [
           {
            "cells": {
             "fill": {
              "color": "#EBF0F8"
             },
             "line": {
              "color": "white"
             }
            },
            "header": {
             "fill": {
              "color": "#C8D4E3"
             },
             "line": {
              "color": "white"
             }
            },
            "type": "table"
           }
          ]
         },
         "layout": {
          "annotationdefaults": {
           "arrowcolor": "#2a3f5f",
           "arrowhead": 0,
           "arrowwidth": 1
          },
          "autotypenumbers": "strict",
          "coloraxis": {
           "colorbar": {
            "outlinewidth": 0,
            "ticks": ""
           }
          },
          "colorscale": {
           "diverging": [
            [
             0,
             "#8e0152"
            ],
            [
             0.1,
             "#c51b7d"
            ],
            [
             0.2,
             "#de77ae"
            ],
            [
             0.3,
             "#f1b6da"
            ],
            [
             0.4,
             "#fde0ef"
            ],
            [
             0.5,
             "#f7f7f7"
            ],
            [
             0.6,
             "#e6f5d0"
            ],
            [
             0.7,
             "#b8e186"
            ],
            [
             0.8,
             "#7fbc41"
            ],
            [
             0.9,
             "#4d9221"
            ],
            [
             1,
             "#276419"
            ]
           ],
           "sequential": [
            [
             0,
             "#0d0887"
            ],
            [
             0.1111111111111111,
             "#46039f"
            ],
            [
             0.2222222222222222,
             "#7201a8"
            ],
            [
             0.3333333333333333,
             "#9c179e"
            ],
            [
             0.4444444444444444,
             "#bd3786"
            ],
            [
             0.5555555555555556,
             "#d8576b"
            ],
            [
             0.6666666666666666,
             "#ed7953"
            ],
            [
             0.7777777777777778,
             "#fb9f3a"
            ],
            [
             0.8888888888888888,
             "#fdca26"
            ],
            [
             1,
             "#f0f921"
            ]
           ],
           "sequentialminus": [
            [
             0,
             "#0d0887"
            ],
            [
             0.1111111111111111,
             "#46039f"
            ],
            [
             0.2222222222222222,
             "#7201a8"
            ],
            [
             0.3333333333333333,
             "#9c179e"
            ],
            [
             0.4444444444444444,
             "#bd3786"
            ],
            [
             0.5555555555555556,
             "#d8576b"
            ],
            [
             0.6666666666666666,
             "#ed7953"
            ],
            [
             0.7777777777777778,
             "#fb9f3a"
            ],
            [
             0.8888888888888888,
             "#fdca26"
            ],
            [
             1,
             "#f0f921"
            ]
           ]
          },
          "colorway": [
           "#636efa",
           "#EF553B",
           "#00cc96",
           "#ab63fa",
           "#FFA15A",
           "#19d3f3",
           "#FF6692",
           "#B6E880",
           "#FF97FF",
           "#FECB52"
          ],
          "font": {
           "color": "#2a3f5f"
          },
          "geo": {
           "bgcolor": "white",
           "lakecolor": "white",
           "landcolor": "#E5ECF6",
           "showlakes": true,
           "showland": true,
           "subunitcolor": "white"
          },
          "hoverlabel": {
           "align": "left"
          },
          "hovermode": "closest",
          "mapbox": {
           "style": "light"
          },
          "paper_bgcolor": "white",
          "plot_bgcolor": "#E5ECF6",
          "polar": {
           "angularaxis": {
            "gridcolor": "white",
            "linecolor": "white",
            "ticks": ""
           },
           "bgcolor": "#E5ECF6",
           "radialaxis": {
            "gridcolor": "white",
            "linecolor": "white",
            "ticks": ""
           }
          },
          "scene": {
           "xaxis": {
            "backgroundcolor": "#E5ECF6",
            "gridcolor": "white",
            "gridwidth": 2,
            "linecolor": "white",
            "showbackground": true,
            "ticks": "",
            "zerolinecolor": "white"
           },
           "yaxis": {
            "backgroundcolor": "#E5ECF6",
            "gridcolor": "white",
            "gridwidth": 2,
            "linecolor": "white",
            "showbackground": true,
            "ticks": "",
            "zerolinecolor": "white"
           },
           "zaxis": {
            "backgroundcolor": "#E5ECF6",
            "gridcolor": "white",
            "gridwidth": 2,
            "linecolor": "white",
            "showbackground": true,
            "ticks": "",
            "zerolinecolor": "white"
           }
          },
          "shapedefaults": {
           "line": {
            "color": "#2a3f5f"
           }
          },
          "ternary": {
           "aaxis": {
            "gridcolor": "white",
            "linecolor": "white",
            "ticks": ""
           },
           "baxis": {
            "gridcolor": "white",
            "linecolor": "white",
            "ticks": ""
           },
           "bgcolor": "#E5ECF6",
           "caxis": {
            "gridcolor": "white",
            "linecolor": "white",
            "ticks": ""
           }
          },
          "title": {
           "x": 0.05
          },
          "xaxis": {
           "automargin": true,
           "gridcolor": "white",
           "linecolor": "white",
           "ticks": "",
           "title": {
            "standoff": 15
           },
           "zerolinecolor": "white",
           "zerolinewidth": 2
          },
          "yaxis": {
           "automargin": true,
           "gridcolor": "white",
           "linecolor": "white",
           "ticks": "",
           "title": {
            "standoff": 15
           },
           "zerolinecolor": "white",
           "zerolinewidth": 2
          }
         }
        },
        "xaxis": {
         "anchor": "y",
         "domain": [
          0,
          1
         ],
         "title": {
          "text": "class"
         }
        },
        "yaxis": {
         "anchor": "x",
         "domain": [
          0,
          1
         ],
         "title": {
          "text": "instrumentalness"
         }
        }
       }
      }
     },
     "metadata": {},
     "output_type": "display_data"
    }
   ],
   "source": [
    "print(\"instrumentalness field\")\n",
    "\n",
    "fig = px.box(df, x=\"class\", y=\"instrumentalness\")\n",
    "fig.show()"
   ]
  },
  {
   "cell_type": "code",
   "execution_count": null,
   "metadata": {},
   "outputs": [],
   "source": []
  }
 ],
 "metadata": {
  "kernelspec": {
   "display_name": "Python 3.10.4 ('mbtify-ai-a2KKP-Zq-py3.10')",
   "language": "python",
   "name": "python3"
  },
  "language_info": {
   "codemirror_mode": {
    "name": "ipython",
    "version": 3
   },
   "file_extension": ".py",
   "mimetype": "text/x-python",
   "name": "python",
   "nbconvert_exporter": "python",
   "pygments_lexer": "ipython3",
   "version": "3.10.4"
  },
  "orig_nbformat": 4,
  "vscode": {
   "interpreter": {
    "hash": "994aa929999e50fcd993436f058665123f4d776b5b999b1ae013fce5fa089757"
   }
  }
 },
 "nbformat": 4,
 "nbformat_minor": 2
}
